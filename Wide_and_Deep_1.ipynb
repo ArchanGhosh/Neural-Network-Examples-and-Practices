{
  "nbformat": 4,
  "nbformat_minor": 0,
  "metadata": {
    "colab": {
      "name": "Wide and Deep 1.ipynb",
      "provenance": [],
      "include_colab_link": true
    },
    "kernelspec": {
      "name": "python3",
      "display_name": "Python 3"
    }
  },
  "cells": [
    {
      "cell_type": "markdown",
      "metadata": {
        "id": "view-in-github",
        "colab_type": "text"
      },
      "source": [
        "<a href=\"https://colab.research.google.com/github/ArchanGhosh/Neural-Network-Examples-and-Practices/blob/master/Wide_and_Deep_1.ipynb\" target=\"_parent\"><img src=\"https://colab.research.google.com/assets/colab-badge.svg\" alt=\"Open In Colab\"/></a>"
      ]
    },
    {
      "cell_type": "code",
      "metadata": {
        "id": "kqbl9ZaO-XaV",
        "colab_type": "code",
        "outputId": "4ad60176-6ac7-48e9-a431-3fdbc7587308",
        "colab": {
          "base_uri": "https://localhost:8080/",
          "height": 35
        }
      },
      "source": [
        "%tensorflow_version 2.x"
      ],
      "execution_count": 0,
      "outputs": [
        {
          "output_type": "stream",
          "text": [
            "TensorFlow 2.x selected.\n"
          ],
          "name": "stdout"
        }
      ]
    },
    {
      "cell_type": "code",
      "metadata": {
        "id": "ovHrWMHB-dkr",
        "colab_type": "code",
        "colab": {}
      },
      "source": [
        "import tensorflow as tf\n",
        "import tensorflow.keras as keras\n",
        "from sklearn.preprocessing import StandardScaler\n"
      ],
      "execution_count": 0,
      "outputs": []
    },
    {
      "cell_type": "code",
      "metadata": {
        "id": "X0OvaqwP-mma",
        "colab_type": "code",
        "outputId": "b230cbda-03bf-4492-a485-c1baf37c8be0",
        "colab": {
          "base_uri": "https://localhost:8080/",
          "height": 35
        }
      },
      "source": [
        "from keras.datasets import boston_housing"
      ],
      "execution_count": 0,
      "outputs": [
        {
          "output_type": "stream",
          "text": [
            "Using TensorFlow backend.\n"
          ],
          "name": "stderr"
        }
      ]
    },
    {
      "cell_type": "code",
      "metadata": {
        "id": "ZW4eJNfF-0Ea",
        "colab_type": "code",
        "colab": {}
      },
      "source": [
        "(X_train, y_train), (X_test, y_test) = boston_housing.load_data()"
      ],
      "execution_count": 0,
      "outputs": []
    },
    {
      "cell_type": "code",
      "metadata": {
        "id": "LkiK1WDlQx_d",
        "colab_type": "code",
        "colab": {}
      },
      "source": [
        "scaler=StandardScaler()"
      ],
      "execution_count": 0,
      "outputs": []
    },
    {
      "cell_type": "code",
      "metadata": {
        "id": "nGo3Hc5cQWyk",
        "colab_type": "code",
        "colab": {}
      },
      "source": [
        "X_train_scaled = scaler.fit_transform(X_train)"
      ],
      "execution_count": 0,
      "outputs": []
    },
    {
      "cell_type": "code",
      "metadata": {
        "id": "S-tmzZNQQWcm",
        "colab_type": "code",
        "colab": {}
      },
      "source": [
        " X_test_scaled = scaler.fit_transform(X_test)"
      ],
      "execution_count": 0,
      "outputs": []
    },
    {
      "cell_type": "code",
      "metadata": {
        "id": "At76a48O-_LC",
        "colab_type": "code",
        "colab": {}
      },
      "source": [
        "input_ = keras.layers.Input(shape=X_train_scaled.shape[1:])"
      ],
      "execution_count": 0,
      "outputs": []
    },
    {
      "cell_type": "code",
      "metadata": {
        "id": "ZwwDa6Kk__DL",
        "colab_type": "code",
        "colab": {}
      },
      "source": [
        "hidden1= keras.layers.Dense(30, activation=keras.activations.relu)(input_)"
      ],
      "execution_count": 0,
      "outputs": []
    },
    {
      "cell_type": "code",
      "metadata": {
        "id": "gB21Y0lbA0Wa",
        "colab_type": "code",
        "colab": {}
      },
      "source": [
        "hidden2 = keras.layers.Dense(30, activation=keras.activations.relu)(hidden1)"
      ],
      "execution_count": 0,
      "outputs": []
    },
    {
      "cell_type": "code",
      "metadata": {
        "id": "XccwRxPUBI6z",
        "colab_type": "code",
        "colab": {}
      },
      "source": [
        "concat= keras.layers.concatenate([input_, hidden2], axis=-1)"
      ],
      "execution_count": 0,
      "outputs": []
    },
    {
      "cell_type": "code",
      "metadata": {
        "id": "bO74IYFyBemi",
        "colab_type": "code",
        "colab": {}
      },
      "source": [
        "output= keras.layers.Dense(1)(concat)"
      ],
      "execution_count": 0,
      "outputs": []
    },
    {
      "cell_type": "code",
      "metadata": {
        "id": "aEvDVJrkCzDJ",
        "colab_type": "code",
        "colab": {}
      },
      "source": [
        "model = keras.models.Model(inputs=[input_], outputs=[output])"
      ],
      "execution_count": 0,
      "outputs": []
    },
    {
      "cell_type": "code",
      "metadata": {
        "id": "653YyDqFDJfq",
        "colab_type": "code",
        "colab": {}
      },
      "source": [
        "model.compile(loss=['mse'], optimizer=keras.optimizers.SGD(learning_rate=1e-5))"
      ],
      "execution_count": 0,
      "outputs": []
    },
    {
      "cell_type": "code",
      "metadata": {
        "id": "Wd8ZFcLvDXNK",
        "colab_type": "code",
        "outputId": "d0d5310a-39ca-4ed7-d3b5-9fdf742a9aec",
        "colab": {
          "base_uri": "https://localhost:8080/",
          "height": 363
        }
      },
      "source": [
        "model.summary()"
      ],
      "execution_count": 0,
      "outputs": [
        {
          "output_type": "stream",
          "text": [
            "Model: \"model\"\n",
            "__________________________________________________________________________________________________\n",
            "Layer (type)                    Output Shape         Param #     Connected to                     \n",
            "==================================================================================================\n",
            "input_1 (InputLayer)            [(None, 13)]         0                                            \n",
            "__________________________________________________________________________________________________\n",
            "dense (Dense)                   (None, 30)           420         input_1[0][0]                    \n",
            "__________________________________________________________________________________________________\n",
            "dense_1 (Dense)                 (None, 30)           930         dense[0][0]                      \n",
            "__________________________________________________________________________________________________\n",
            "concatenate (Concatenate)       (None, 43)           0           input_1[0][0]                    \n",
            "                                                                 dense_1[0][0]                    \n",
            "__________________________________________________________________________________________________\n",
            "dense_2 (Dense)                 (None, 1)            44          concatenate[0][0]                \n",
            "==================================================================================================\n",
            "Total params: 1,394\n",
            "Trainable params: 1,394\n",
            "Non-trainable params: 0\n",
            "__________________________________________________________________________________________________\n"
          ],
          "name": "stdout"
        }
      ]
    },
    {
      "cell_type": "code",
      "metadata": {
        "id": "iNWwz9V6DZMS",
        "colab_type": "code",
        "outputId": "daeef9b1-8af0-48af-8463-00b76f3c6d57",
        "colab": {
          "base_uri": "https://localhost:8080/",
          "height": 1000
        }
      },
      "source": [
        "history=model.fit(X_train_scaled, y_train, validation_split=0.2, epochs=30)"
      ],
      "execution_count": 0,
      "outputs": [
        {
          "output_type": "stream",
          "text": [
            "Train on 323 samples, validate on 81 samples\n",
            "Epoch 1/30\n",
            "323/323 [==============================] - 0s 1ms/sample - loss: 559.8580 - val_loss: 629.9544\n",
            "Epoch 2/30\n",
            "323/323 [==============================] - 0s 87us/sample - loss: 558.6861 - val_loss: 628.6458\n",
            "Epoch 3/30\n",
            "323/323 [==============================] - 0s 90us/sample - loss: 557.4726 - val_loss: 627.2803\n",
            "Epoch 4/30\n",
            "323/323 [==============================] - 0s 91us/sample - loss: 556.2076 - val_loss: 626.0063\n",
            "Epoch 5/30\n",
            "323/323 [==============================] - 0s 90us/sample - loss: 555.0266 - val_loss: 624.6564\n",
            "Epoch 6/30\n",
            "323/323 [==============================] - 0s 114us/sample - loss: 553.7600 - val_loss: 623.3773\n",
            "Epoch 7/30\n",
            "323/323 [==============================] - 0s 93us/sample - loss: 552.5669 - val_loss: 622.0737\n",
            "Epoch 8/30\n",
            "323/323 [==============================] - 0s 108us/sample - loss: 551.3470 - val_loss: 620.6006\n",
            "Epoch 9/30\n",
            "323/323 [==============================] - 0s 93us/sample - loss: 549.9844 - val_loss: 619.2372\n",
            "Epoch 10/30\n",
            "323/323 [==============================] - 0s 93us/sample - loss: 548.7064 - val_loss: 617.8598\n",
            "Epoch 11/30\n",
            "323/323 [==============================] - 0s 95us/sample - loss: 547.4265 - val_loss: 616.4156\n",
            "Epoch 12/30\n",
            "323/323 [==============================] - 0s 92us/sample - loss: 546.0839 - val_loss: 615.0392\n",
            "Epoch 13/30\n",
            "323/323 [==============================] - 0s 100us/sample - loss: 544.8112 - val_loss: 613.6094\n",
            "Epoch 14/30\n",
            "323/323 [==============================] - 0s 115us/sample - loss: 543.5026 - val_loss: 612.2495\n",
            "Epoch 15/30\n",
            "323/323 [==============================] - 0s 106us/sample - loss: 542.2501 - val_loss: 610.8480\n",
            "Epoch 16/30\n",
            "323/323 [==============================] - 0s 101us/sample - loss: 540.9491 - val_loss: 609.3429\n",
            "Epoch 17/30\n",
            "323/323 [==============================] - 0s 94us/sample - loss: 539.5558 - val_loss: 607.8617\n",
            "Epoch 18/30\n",
            "323/323 [==============================] - 0s 115us/sample - loss: 538.1901 - val_loss: 606.3645\n",
            "Epoch 19/30\n",
            "323/323 [==============================] - 0s 116us/sample - loss: 536.8206 - val_loss: 604.7161\n",
            "Epoch 20/30\n",
            "323/323 [==============================] - 0s 99us/sample - loss: 535.2976 - val_loss: 603.2597\n",
            "Epoch 21/30\n",
            "323/323 [==============================] - 0s 102us/sample - loss: 533.9654 - val_loss: 601.7651\n",
            "Epoch 22/30\n",
            "323/323 [==============================] - 0s 93us/sample - loss: 532.5796 - val_loss: 600.1727\n",
            "Epoch 23/30\n",
            "323/323 [==============================] - 0s 106us/sample - loss: 531.1237 - val_loss: 598.5866\n",
            "Epoch 24/30\n",
            "323/323 [==============================] - 0s 110us/sample - loss: 529.6727 - val_loss: 597.0476\n",
            "Epoch 25/30\n",
            "323/323 [==============================] - 0s 102us/sample - loss: 528.2382 - val_loss: 595.5344\n",
            "Epoch 26/30\n",
            "323/323 [==============================] - 0s 95us/sample - loss: 526.8247 - val_loss: 593.9206\n",
            "Epoch 27/30\n",
            "323/323 [==============================] - 0s 158us/sample - loss: 525.3144 - val_loss: 592.3402\n",
            "Epoch 28/30\n",
            "323/323 [==============================] - 0s 93us/sample - loss: 523.8394 - val_loss: 590.6177\n",
            "Epoch 29/30\n",
            "323/323 [==============================] - 0s 104us/sample - loss: 522.2631 - val_loss: 588.7830\n",
            "Epoch 30/30\n",
            "323/323 [==============================] - 0s 96us/sample - loss: 520.5646 - val_loss: 586.9012\n"
          ],
          "name": "stdout"
        }
      ]
    },
    {
      "cell_type": "code",
      "metadata": {
        "id": "Ah4tvoY7EiyL",
        "colab_type": "code",
        "colab": {}
      },
      "source": [
        ""
      ],
      "execution_count": 0,
      "outputs": []
    }
  ]
}