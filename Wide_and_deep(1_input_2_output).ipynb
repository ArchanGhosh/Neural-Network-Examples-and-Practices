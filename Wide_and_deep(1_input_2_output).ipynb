{
  "nbformat": 4,
  "nbformat_minor": 0,
  "metadata": {
    "colab": {
      "name": "Wide and deep(1 input 2 output).ipynb",
      "provenance": [],
      "include_colab_link": true
    },
    "kernelspec": {
      "name": "python3",
      "display_name": "Python 3"
    }
  },
  "cells": [
    {
      "cell_type": "markdown",
      "metadata": {
        "id": "view-in-github",
        "colab_type": "text"
      },
      "source": [
        "<a href=\"https://colab.research.google.com/github/ArchanGhosh/Neural-Network-Examples-and-Practices/blob/master/Wide_and_deep(1_input_2_output).ipynb\" target=\"_parent\"><img src=\"https://colab.research.google.com/assets/colab-badge.svg\" alt=\"Open In Colab\"/></a>"
      ]
    },
    {
      "cell_type": "code",
      "metadata": {
        "id": "no7Qv1sMUCn8",
        "colab_type": "code",
        "outputId": "b803d830-c777-453f-ef61-4fc78503c0ea",
        "colab": {
          "base_uri": "https://localhost:8080/",
          "height": 35
        }
      },
      "source": [
        "%tensorflow_version 2.x"
      ],
      "execution_count": 0,
      "outputs": [
        {
          "output_type": "stream",
          "text": [
            "TensorFlow 2.x selected.\n"
          ],
          "name": "stdout"
        }
      ]
    },
    {
      "cell_type": "code",
      "metadata": {
        "id": "BA3fIfpVUSx2",
        "colab_type": "code",
        "colab": {}
      },
      "source": [
        "import tensorflow as tf\n",
        "import tensorflow.keras as keras\n",
        "from sklearn.preprocessing import StandardScaler\n",
        "import pandas as pd"
      ],
      "execution_count": 0,
      "outputs": []
    },
    {
      "cell_type": "code",
      "metadata": {
        "id": "g8WL3IPoW4_s",
        "colab_type": "code",
        "colab": {}
      },
      "source": [
        "import matplotlib.pyplot as plt"
      ],
      "execution_count": 0,
      "outputs": []
    },
    {
      "cell_type": "code",
      "metadata": {
        "id": "YmELBvOMUUUt",
        "colab_type": "code",
        "outputId": "6ebea3e8-7317-4cc2-acbf-236b4f45d5b6",
        "colab": {
          "base_uri": "https://localhost:8080/",
          "height": 35
        }
      },
      "source": [
        "from keras.datasets import boston_housing"
      ],
      "execution_count": 0,
      "outputs": [
        {
          "output_type": "stream",
          "text": [
            "Using TensorFlow backend.\n"
          ],
          "name": "stderr"
        }
      ]
    },
    {
      "cell_type": "code",
      "metadata": {
        "id": "-4BvNe-GUVos",
        "colab_type": "code",
        "colab": {}
      },
      "source": [
        "(X_train, y_train), (X_test, y_test) = boston_housing.load_data()"
      ],
      "execution_count": 0,
      "outputs": []
    },
    {
      "cell_type": "code",
      "metadata": {
        "id": "zlj0biCIUXNk",
        "colab_type": "code",
        "colab": {}
      },
      "source": [
        "scaler=StandardScaler()"
      ],
      "execution_count": 0,
      "outputs": []
    },
    {
      "cell_type": "code",
      "metadata": {
        "id": "DimwSPGYUYwk",
        "colab_type": "code",
        "colab": {}
      },
      "source": [
        "X_train_scaled = scaler.fit_transform(X_train)"
      ],
      "execution_count": 0,
      "outputs": []
    },
    {
      "cell_type": "code",
      "metadata": {
        "id": "IaTYKVDyUarg",
        "colab_type": "code",
        "colab": {}
      },
      "source": [
        "X_test_scaled = scaler.fit_transform(X_test)"
      ],
      "execution_count": 0,
      "outputs": []
    },
    {
      "cell_type": "code",
      "metadata": {
        "id": "eGithslnUcIM",
        "colab_type": "code",
        "colab": {}
      },
      "source": [
        "input_ = keras.layers.Input(shape=X_train_scaled.shape[1:])"
      ],
      "execution_count": 0,
      "outputs": []
    },
    {
      "cell_type": "code",
      "metadata": {
        "id": "UwbK_cU7Ue67",
        "colab_type": "code",
        "colab": {}
      },
      "source": [
        "hidden1= keras.layers.Dense(50, activation=keras.activations.relu)(input_)"
      ],
      "execution_count": 0,
      "outputs": []
    },
    {
      "cell_type": "code",
      "metadata": {
        "id": "1AmSWtWeUhAr",
        "colab_type": "code",
        "colab": {}
      },
      "source": [
        "hidden2 = keras.layers.Dense(50, activation=keras.activations.relu)(hidden1)"
      ],
      "execution_count": 0,
      "outputs": []
    },
    {
      "cell_type": "code",
      "metadata": {
        "id": "mEMhbrR3UkSU",
        "colab_type": "code",
        "colab": {}
      },
      "source": [
        "concat= keras.layers.concatenate([input_, hidden2], axis=-1)"
      ],
      "execution_count": 0,
      "outputs": []
    },
    {
      "cell_type": "code",
      "metadata": {
        "id": "P6UF1UIfUmi0",
        "colab_type": "code",
        "colab": {}
      },
      "source": [
        "main_output= keras.layers.Dense(1)(concat)"
      ],
      "execution_count": 0,
      "outputs": []
    },
    {
      "cell_type": "code",
      "metadata": {
        "id": "evLzhZ3FUrb8",
        "colab_type": "code",
        "colab": {}
      },
      "source": [
        "aux_output= keras.layers.Dense(1)(hidden2)"
      ],
      "execution_count": 0,
      "outputs": []
    },
    {
      "cell_type": "code",
      "metadata": {
        "id": "hmGzSR17Ux2_",
        "colab_type": "code",
        "colab": {}
      },
      "source": [
        "model = keras.models.Model(inputs=[input_], outputs=[main_output, aux_output])"
      ],
      "execution_count": 0,
      "outputs": []
    },
    {
      "cell_type": "code",
      "metadata": {
        "id": "Jgdy4By4U9E3",
        "colab_type": "code",
        "colab": {}
      },
      "source": [
        "model.compile(loss=['mse', 'mse'], optimizer=keras.optimizers.SGD(), loss_weights=[0.9,0.1])"
      ],
      "execution_count": 0,
      "outputs": []
    },
    {
      "cell_type": "code",
      "metadata": {
        "id": "av-VBcYzVUfD",
        "colab_type": "code",
        "outputId": "3a3bb046-9bd5-4db6-825c-c6321336a9ed",
        "colab": {
          "base_uri": "https://localhost:8080/",
          "height": 399
        }
      },
      "source": [
        "model.summary()"
      ],
      "execution_count": 0,
      "outputs": [
        {
          "output_type": "stream",
          "text": [
            "Model: \"model\"\n",
            "__________________________________________________________________________________________________\n",
            "Layer (type)                    Output Shape         Param #     Connected to                     \n",
            "==================================================================================================\n",
            "input_1 (InputLayer)            [(None, 13)]         0                                            \n",
            "__________________________________________________________________________________________________\n",
            "dense (Dense)                   (None, 50)           700         input_1[0][0]                    \n",
            "__________________________________________________________________________________________________\n",
            "dense_1 (Dense)                 (None, 50)           2550        dense[0][0]                      \n",
            "__________________________________________________________________________________________________\n",
            "concatenate (Concatenate)       (None, 63)           0           input_1[0][0]                    \n",
            "                                                                 dense_1[0][0]                    \n",
            "__________________________________________________________________________________________________\n",
            "dense_2 (Dense)                 (None, 1)            64          concatenate[0][0]                \n",
            "__________________________________________________________________________________________________\n",
            "dense_3 (Dense)                 (None, 1)            51          dense_1[0][0]                    \n",
            "==================================================================================================\n",
            "Total params: 3,365\n",
            "Trainable params: 3,365\n",
            "Non-trainable params: 0\n",
            "__________________________________________________________________________________________________\n"
          ],
          "name": "stdout"
        }
      ]
    },
    {
      "cell_type": "code",
      "metadata": {
        "id": "iJ5NQpgbVcr9",
        "colab_type": "code",
        "outputId": "b7041e59-302b-494d-9404-08a6eb74c59e",
        "colab": {
          "base_uri": "https://localhost:8080/",
          "height": 1000
        }
      },
      "source": [
        "history=model.fit(X_train_scaled, [y_train, y_train], validation_split=0.2, epochs=30)"
      ],
      "execution_count": 0,
      "outputs": [
        {
          "output_type": "stream",
          "text": [
            "Train on 323 samples, validate on 81 samples\n",
            "Epoch 1/30\n",
            "323/323 [==============================] - 1s 2ms/sample - loss: 403.7314 - dense_2_loss: 373.7244 - dense_3_loss: 470.0205 - val_loss: 132.2261 - val_dense_2_loss: 120.9886 - val_dense_3_loss: 274.1140\n",
            "Epoch 2/30\n",
            "323/323 [==============================] - 0s 112us/sample - loss: 173.1553 - dense_2_loss: 154.7631 - dense_3_loss: 230.4359 - val_loss: 195.4692 - val_dense_2_loss: 211.6310 - val_dense_3_loss: 62.1803\n",
            "Epoch 3/30\n",
            "323/323 [==============================] - 0s 107us/sample - loss: 124.3809 - dense_2_loss: 113.7454 - dense_3_loss: 130.0508 - val_loss: 39.1195 - val_dense_2_loss: 37.6106 - val_dense_3_loss: 29.8163\n",
            "Epoch 4/30\n",
            "323/323 [==============================] - 0s 159us/sample - loss: 32.0417 - dense_2_loss: 31.6813 - dense_3_loss: 36.4499 - val_loss: 63.6079 - val_dense_2_loss: 69.7514 - val_dense_3_loss: 38.3493\n",
            "Epoch 5/30\n",
            "323/323 [==============================] - 0s 106us/sample - loss: 34.0712 - dense_2_loss: 31.9721 - dense_3_loss: 29.7763 - val_loss: 27.6466 - val_dense_2_loss: 27.1196 - val_dense_3_loss: 22.8812\n",
            "Epoch 6/30\n",
            "323/323 [==============================] - 0s 110us/sample - loss: 12.7320 - dense_2_loss: 11.4246 - dense_3_loss: 17.9340 - val_loss: 14.4978 - val_dense_2_loss: 14.7970 - val_dense_3_loss: 12.6000\n",
            "Epoch 7/30\n",
            "323/323 [==============================] - 0s 123us/sample - loss: 12.9796 - dense_2_loss: 14.0513 - dense_3_loss: 15.2153 - val_loss: 90.1639 - val_dense_2_loss: 87.6354 - val_dense_3_loss: 59.5634\n",
            "Epoch 8/30\n",
            "323/323 [==============================] - 0s 116us/sample - loss: 24.9880 - dense_2_loss: 24.6517 - dense_3_loss: 23.2737 - val_loss: 31.6316 - val_dense_2_loss: 31.4427 - val_dense_3_loss: 23.9890\n",
            "Epoch 9/30\n",
            "323/323 [==============================] - 0s 126us/sample - loss: 21.0102 - dense_2_loss: 19.2909 - dense_3_loss: 19.7292 - val_loss: 20.2633 - val_dense_2_loss: 19.9237 - val_dense_3_loss: 19.1459\n",
            "Epoch 10/30\n",
            "323/323 [==============================] - 0s 115us/sample - loss: 14.3890 - dense_2_loss: 13.4373 - dense_3_loss: 15.7184 - val_loss: 17.4793 - val_dense_2_loss: 16.6612 - val_dense_3_loss: 19.8162\n",
            "Epoch 11/30\n",
            "323/323 [==============================] - 0s 103us/sample - loss: 9.9908 - dense_2_loss: 9.2564 - dense_3_loss: 12.9629 - val_loss: 16.3429 - val_dense_2_loss: 16.3448 - val_dense_3_loss: 14.1625\n",
            "Epoch 12/30\n",
            "323/323 [==============================] - 0s 106us/sample - loss: 11.3029 - dense_2_loss: 12.0770 - dense_3_loss: 12.8527 - val_loss: 93.4437 - val_dense_2_loss: 97.1439 - val_dense_3_loss: 47.9745\n",
            "Epoch 13/30\n",
            "323/323 [==============================] - 0s 107us/sample - loss: 22.2785 - dense_2_loss: 21.0726 - dense_3_loss: 19.2574 - val_loss: 39.1733 - val_dense_2_loss: 37.0930 - val_dense_3_loss: 33.7025\n",
            "Epoch 14/30\n",
            "323/323 [==============================] - 0s 96us/sample - loss: 15.4353 - dense_2_loss: 14.3421 - dense_3_loss: 15.7835 - val_loss: 21.5215 - val_dense_2_loss: 20.9998 - val_dense_3_loss: 20.2677\n",
            "Epoch 15/30\n",
            "323/323 [==============================] - 0s 156us/sample - loss: 10.8930 - dense_2_loss: 10.0932 - dense_3_loss: 11.3465 - val_loss: 14.3750 - val_dense_2_loss: 13.9407 - val_dense_3_loss: 13.9472\n",
            "Epoch 16/30\n",
            "323/323 [==============================] - 0s 110us/sample - loss: 13.0156 - dense_2_loss: 12.4037 - dense_3_loss: 14.7963 - val_loss: 20.1511 - val_dense_2_loss: 20.4596 - val_dense_3_loss: 16.1221\n",
            "Epoch 17/30\n",
            "323/323 [==============================] - 0s 114us/sample - loss: 13.5163 - dense_2_loss: 13.6480 - dense_3_loss: 12.5046 - val_loss: 40.8816 - val_dense_2_loss: 38.6210 - val_dense_3_loss: 38.5137\n",
            "Epoch 18/30\n",
            "323/323 [==============================] - 0s 109us/sample - loss: 12.2408 - dense_2_loss: 12.4203 - dense_3_loss: 12.3213 - val_loss: 66.0284 - val_dense_2_loss: 60.3953 - val_dense_3_loss: 57.2399\n",
            "Epoch 19/30\n",
            "323/323 [==============================] - 0s 114us/sample - loss: 14.3805 - dense_2_loss: 13.5485 - dense_3_loss: 14.1273 - val_loss: 11.6366 - val_dense_2_loss: 11.1814 - val_dense_3_loss: 12.8758\n",
            "Epoch 20/30\n",
            "323/323 [==============================] - 0s 126us/sample - loss: 9.0559 - dense_2_loss: 9.8331 - dense_3_loss: 13.4850 - val_loss: 25.8407 - val_dense_2_loss: 25.7004 - val_dense_3_loss: 20.3301\n",
            "Epoch 21/30\n",
            "323/323 [==============================] - 0s 129us/sample - loss: 9.3011 - dense_2_loss: 23.1858 - dense_3_loss: 25.5626 - val_loss: 2478.3231 - val_dense_2_loss: 2632.3186 - val_dense_3_loss: 877.3107\n",
            "Epoch 22/30\n",
            "323/323 [==============================] - 0s 142us/sample - loss: 422.8894 - dense_2_loss: 395.8516 - dense_3_loss: 430.3672 - val_loss: 243.4762 - val_dense_2_loss: 246.6765 - val_dense_3_loss: 294.5166\n",
            "Epoch 23/30\n",
            "323/323 [==============================] - 0s 112us/sample - loss: 159.3556 - dense_2_loss: 135.4234 - dense_3_loss: 289.2056 - val_loss: 10348.9113 - val_dense_2_loss: 10892.4570 - val_dense_3_loss: 4687.4009\n",
            "Epoch 24/30\n",
            "323/323 [==============================] - 0s 100us/sample - loss: 1026.1132 - dense_2_loss: 990.4830 - dense_3_loss: 589.6031 - val_loss: 108.3104 - val_dense_2_loss: 103.9571 - val_dense_3_loss: 225.6549\n",
            "Epoch 25/30\n",
            "323/323 [==============================] - 0s 106us/sample - loss: 122.9040 - dense_2_loss: 143.1265 - dense_3_loss: 204.2364 - val_loss: 273.4669 - val_dense_2_loss: 254.8256 - val_dense_3_loss: 369.6538\n",
            "Epoch 26/30\n",
            "323/323 [==============================] - 0s 119us/sample - loss: 114.1601 - dense_2_loss: 94.5600 - dense_3_loss: 205.2971 - val_loss: 30.0429 - val_dense_2_loss: 27.1911 - val_dense_3_loss: 46.0061\n",
            "Epoch 27/30\n",
            "323/323 [==============================] - 0s 125us/sample - loss: 23.9712 - dense_2_loss: 20.7992 - dense_3_loss: 39.5016 - val_loss: 21.2865 - val_dense_2_loss: 16.7382 - val_dense_3_loss: 54.7913\n",
            "Epoch 28/30\n",
            "323/323 [==============================] - 0s 148us/sample - loss: 22.9898 - dense_2_loss: 21.4627 - dense_3_loss: 34.8321 - val_loss: 17.0325 - val_dense_2_loss: 15.2504 - val_dense_3_loss: 28.7043\n",
            "Epoch 29/30\n",
            "323/323 [==============================] - 0s 121us/sample - loss: 21.4514 - dense_2_loss: 21.1838 - dense_3_loss: 24.8140 - val_loss: 17.8966 - val_dense_2_loss: 15.1637 - val_dense_3_loss: 39.4620\n",
            "Epoch 30/30\n",
            "323/323 [==============================] - 0s 97us/sample - loss: 24.6110 - dense_2_loss: 22.8769 - dense_3_loss: 27.6616 - val_loss: 40.8819 - val_dense_2_loss: 38.0252 - val_dense_3_loss: 35.9871\n"
          ],
          "name": "stdout"
        }
      ]
    },
    {
      "cell_type": "code",
      "metadata": {
        "id": "1xpEU884Vjyc",
        "colab_type": "code",
        "colab": {}
      },
      "source": [
        "history_df=pd.DataFrame(history.history)"
      ],
      "execution_count": 0,
      "outputs": []
    },
    {
      "cell_type": "code",
      "metadata": {
        "id": "ORLmwF-_WKjs",
        "colab_type": "code",
        "outputId": "063843c1-e38a-4a5d-d875-f1bd0789c960",
        "colab": {
          "base_uri": "https://localhost:8080/",
          "height": 320
        }
      },
      "source": [
        "history_df.plot(figsize = (8,5))\n",
        "plt.grid(True)\n",
        "plt.gca().set_ylim()\n",
        "plt.show()"
      ],
      "execution_count": 0,
      "outputs": [
        {
          "output_type": "display_data",
          "data": {
            "image/png": "[encoded data removed]",
            "text/plain": [
              "<Figure size 576x360 with 1 Axes>"
            ]
          },
          "metadata": {
            "tags": []
          }
        }
      ]
    },
    {
      "cell_type": "code",
      "metadata": {
        "id": "qa9Y-r6IWefV",
        "colab_type": "code",
        "outputId": "56be6946-3f1d-48cc-8c6b-27b0b26ecda9",
        "colab": {
          "base_uri": "https://localhost:8080/",
          "height": 54
        }
      },
      "source": [
        "model.evaluate(X_test_scaled, [y_test, y_test], verbose=2)"
      ],
      "execution_count": 0,
      "outputs": [
        {
          "output_type": "stream",
          "text": [
            "102/102 - 0s - loss: 53.0584 - dense_2_loss: 126.8643 - dense_3_loss: 156.7512\n"
          ],
          "name": "stdout"
        },
        {
          "output_type": "execute_result",
          "data": {
            "text/plain": [
              "[53.05836456897212, 126.86425, 156.75116]"
            ]
          },
          "metadata": {
            "tags": []
          },
          "execution_count": 21
        }
      ]
    },
    {
      "cell_type": "code",
      "metadata": {
        "id": "NlGl_25TWh9l",
        "colab_type": "code",
        "outputId": "428752d7-1be0-47a8-90d3-e06fc85310e2",
        "colab": {
          "base_uri": "https://localhost:8080/",
          "height": 363
        }
      },
      "source": [
        "model.predict(X_test_scaled[:10])"
      ],
      "execution_count": 0,
      "outputs": [
        {
          "output_type": "execute_result",
          "data": {
            "text/plain": [
              "[array([[10.553657],\n",
              "        [22.087358],\n",
              "        [22.546947],\n",
              "        [36.604744],\n",
              "        [27.420277],\n",
              "        [20.098812],\n",
              "        [36.980175],\n",
              "        [24.49047 ],\n",
              "        [23.109081],\n",
              "        [21.00022 ]], dtype=float32), array([[12.21357 ],\n",
              "        [21.03697 ],\n",
              "        [21.31281 ],\n",
              "        [34.94331 ],\n",
              "        [23.30833 ],\n",
              "        [19.74832 ],\n",
              "        [35.29553 ],\n",
              "        [20.679358],\n",
              "        [25.115099],\n",
              "        [21.024912]], dtype=float32)]"
            ]
          },
          "metadata": {
            "tags": []
          },
          "execution_count": 22
        }
      ]
    },
    {
      "cell_type": "code",
      "metadata": {
        "id": "2NGy1M-SYJbT",
        "colab_type": "code",
        "colab": {}
      },
      "source": [
        ""
      ],
      "execution_count": 0,
      "outputs": []
    }
  ]
}