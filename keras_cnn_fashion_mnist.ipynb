{
  "nbformat": 4,
  "nbformat_minor": 0,
  "metadata": {
    "colab": {
      "name": "keras_cnn_fashion_mnist.ipynb",
      "provenance": [],
      "authorship_tag": "ABX9TyPeTv6Kkkj1F8dVZnsnglx8",
      "include_colab_link": true
    },
    "kernelspec": {
      "name": "python3",
      "display_name": "Python 3"
    }
  },
  "cells": [
    {
      "cell_type": "markdown",
      "metadata": {
        "id": "view-in-github",
        "colab_type": "text"
      },
      "source": [
        "<a href=\"https://colab.research.google.com/github/ArchanGhosh/Neural-Network-Examples-and-Practices/blob/master/keras_cnn_fashion_mnist.ipynb\" target=\"_parent\"><img src=\"https://colab.research.google.com/assets/colab-badge.svg\" alt=\"Open In Colab\"/></a>"
      ]
    },
    {
      "cell_type": "code",
      "metadata": {
        "id": "eWSUFJBZU8ZC",
        "colab_type": "code",
        "outputId": "b2f74887-820a-4c91-a65b-33c76e04e846",
        "colab": {
          "base_uri": "https://localhost:8080/",
          "height": 102
        }
      },
      "source": [
        "%tensorflow_version 2.0"
      ],
      "execution_count": 0,
      "outputs": [
        {
          "output_type": "stream",
          "text": [
            "`%tensorflow_version` only switches the major version: `1.x` or `2.x`.\n",
            "You set: `2.0`. This will be interpreted as: `2.x`.\n",
            "\n",
            "\n",
            "TensorFlow is already loaded. Please restart the runtime to change versions.\n"
          ],
          "name": "stdout"
        }
      ]
    },
    {
      "cell_type": "code",
      "metadata": {
        "id": "Nspr0dfvVGFI",
        "colab_type": "code",
        "colab": {}
      },
      "source": [
        "%matplotlib inline"
      ],
      "execution_count": 0,
      "outputs": []
    },
    {
      "cell_type": "code",
      "metadata": {
        "id": "FdkOmGR2VI_2",
        "colab_type": "code",
        "colab": {}
      },
      "source": [
        "import tensorflow as tf\n",
        "import tensorflow.keras as keras\n",
        "import numpy as np\n",
        "import pandas as pd\n",
        "import matplotlib.pyplot as plt\n"
      ],
      "execution_count": 0,
      "outputs": []
    },
    {
      "cell_type": "code",
      "metadata": {
        "id": "DTYMbfIFVUzG",
        "colab_type": "code",
        "colab": {}
      },
      "source": [
        "from keras.datasets import fashion_mnist"
      ],
      "execution_count": 0,
      "outputs": []
    },
    {
      "cell_type": "code",
      "metadata": {
        "id": "QEkvnidpVYLf",
        "colab_type": "code",
        "colab": {}
      },
      "source": [
        "(X_train, y_train), (X_test,y_test) = fashion_mnist.load_data()"
      ],
      "execution_count": 0,
      "outputs": []
    },
    {
      "cell_type": "code",
      "metadata": {
        "id": "mjxWmJHKVgLm",
        "colab_type": "code",
        "colab": {}
      },
      "source": [
        "X_train, X_test = X_train/255, X_test/255"
      ],
      "execution_count": 0,
      "outputs": []
    },
    {
      "cell_type": "code",
      "metadata": {
        "id": "c36y9SeKVra1",
        "colab_type": "code",
        "colab": {}
      },
      "source": [
        "X_train= X_train[..., np.newaxis] "
      ],
      "execution_count": 0,
      "outputs": []
    },
    {
      "cell_type": "code",
      "metadata": {
        "id": "S6MdyOW-V2c0",
        "colab_type": "code",
        "outputId": "9b4cf338-d8b6-4a13-e6c4-cdabe0d5beee",
        "colab": {
          "base_uri": "https://localhost:8080/",
          "height": 34
        }
      },
      "source": [
        "X_train.shape"
      ],
      "execution_count": 0,
      "outputs": [
        {
          "output_type": "execute_result",
          "data": {
            "text/plain": [
              "(60000, 28, 28, 1)"
            ]
          },
          "metadata": {
            "tags": []
          },
          "execution_count": 21
        }
      ]
    },
    {
      "cell_type": "code",
      "metadata": {
        "id": "SaDQWy2rV3k0",
        "colab_type": "code",
        "colab": {}
      },
      "source": [
        "X_test = X_test[...,np.newaxis]"
      ],
      "execution_count": 0,
      "outputs": []
    },
    {
      "cell_type": "code",
      "metadata": {
        "id": "sG73Olm5WAFs",
        "colab_type": "code",
        "colab": {}
      },
      "source": [
        "model = keras.models.Sequential([\n",
        "                                 keras.layers.Conv2D(64,7, activation = \"relu\", padding=\"same\", input_shape=[28,28,1]),\n",
        "                                 keras.layers.MaxPooling2D(2),\n",
        "                                 keras.layers.Conv2D(128,3,activation=\"relu\",padding=\"same\"),\n",
        "                                 keras.layers.Conv2D(128,3,activation=\"relu\",padding=\"same\"),\n",
        "                                 keras.layers.MaxPooling2D(2),\n",
        "                                 keras.layers.Conv2D(256,3,activation=\"relu\",padding=\"same\"),\n",
        "                                 keras.layers.Conv2D(256,3,activation=\"relu\",padding=\"same\"),\n",
        "                                 keras.layers.MaxPooling2D(2),\n",
        "                                 keras.layers.Flatten(),\n",
        "                                 keras.layers.Dense(128, activation=\"relu\"),\n",
        "                                 keras.layers.Dropout(0.5),\n",
        "                                 keras.layers.Dense(64, activation=\"relu\"),\n",
        "                                 keras.layers.Dropout(0.5),\n",
        "                                 keras.layers.Dense(10, activation=\"softmax\"),\n",
        "])"
      ],
      "execution_count": 0,
      "outputs": []
    },
    {
      "cell_type": "code",
      "metadata": {
        "id": "nowuZJEsXDSN",
        "colab_type": "code",
        "colab": {}
      },
      "source": [
        "model.compile(optimizer=keras.optimizers.RMSprop(), loss=keras.losses.sparse_categorical_crossentropy, metrics=['accuracy'])"
      ],
      "execution_count": 0,
      "outputs": []
    },
    {
      "cell_type": "code",
      "metadata": {
        "id": "gEd1WTPUZPye",
        "colab_type": "code",
        "colab": {}
      },
      "source": [
        "checkpoint_cb= keras.callbacks.ModelCheckpoint(\"my_keras_model.h5\", save_best_only=True)"
      ],
      "execution_count": 0,
      "outputs": []
    },
    {
      "cell_type": "code",
      "metadata": {
        "id": "cCTf8FwMYqz9",
        "colab_type": "code",
        "outputId": "893e46f0-f736-49a9-b981-f4703ed291dd",
        "colab": {
          "base_uri": "https://localhost:8080/",
          "height": 68
        }
      },
      "source": [
        "history = model.fit(X_train, y_train, validation_split=0.2, epochs=5, callbacks=[checkpoint_cb])"
      ],
      "execution_count": 0,
      "outputs": [
        {
          "output_type": "stream",
          "text": [
            "Train on 48000 samples, validate on 12000 samples\n",
            "Epoch 1/5\n",
            "18176/48000 [==========>...................] - ETA: 7:06 - loss: 1.1293 - accuracy: 0.5893"
          ],
          "name": "stdout"
        }
      ]
    },
    {
      "cell_type": "code",
      "metadata": {
        "id": "XU5rVdMmZmoZ",
        "colab_type": "code",
        "colab": {}
      },
      "source": [
        ""
      ],
      "execution_count": 0,
      "outputs": []
    }
  ]
}