{
  "nbformat": 4,
  "nbformat_minor": 0,
  "metadata": {
    "colab": {
      "name": "Fashion MNIST.ipynb",
      "provenance": [],
      "include_colab_link": true
    },
    "kernelspec": {
      "name": "python3",
      "display_name": "Python 3"
    }
  },
  "cells": [
    {
      "cell_type": "markdown",
      "metadata": {
        "id": "view-in-github",
        "colab_type": "text"
      },
      "source": [
        "<a href=\"https://colab.research.google.com/github/ArchanGhosh/Neural-Network-Examples-and-Practices/blob/master/Fashion_MNIST.ipynb\" target=\"_parent\"><img src=\"https://colab.research.google.com/assets/colab-badge.svg\" alt=\"Open In Colab\"/></a>"
      ]
    },
    {
      "cell_type": "code",
      "metadata": {
        "id": "hpJJf4tvJ5iK",
        "colab_type": "code",
        "outputId": "34420cd8-0085-4e71-f220-e7c0bdd15907",
        "colab": {
          "base_uri": "https://localhost:8080/",
          "height": 34
        }
      },
      "source": [
        "%tensorflow_version 2.x"
      ],
      "execution_count": 0,
      "outputs": [
        {
          "output_type": "stream",
          "text": [
            "TensorFlow 2.x selected.\n"
          ],
          "name": "stdout"
        }
      ]
    },
    {
      "cell_type": "code",
      "metadata": {
        "id": "sMys0siMJ9AD",
        "colab_type": "code",
        "colab": {}
      },
      "source": [
        "import numpy as np\n",
        "import tensorflow as tf\n",
        "import pandas as pd\n",
        "import tensorflow.keras as keras "
      ],
      "execution_count": 0,
      "outputs": []
    },
    {
      "cell_type": "code",
      "metadata": {
        "id": "V1YltAw2KbRn",
        "colab_type": "code",
        "colab": {}
      },
      "source": [
        "from tensorflow.keras.datasets import fashion_mnist"
      ],
      "execution_count": 0,
      "outputs": []
    },
    {
      "cell_type": "code",
      "metadata": {
        "id": "doDCPj6mKjIP",
        "colab_type": "code",
        "outputId": "aa06e941-7569-40c1-bf71-d6e624720d66",
        "colab": {
          "base_uri": "https://localhost:8080/",
          "height": 153
        }
      },
      "source": [
        "(X_train_full, y_train_full), (X_test, y_test) = fashion_mnist.load_data()"
      ],
      "execution_count": 0,
      "outputs": [
        {
          "output_type": "stream",
          "text": [
            "Downloading data from https://storage.googleapis.com/tensorflow/tf-keras-datasets/train-labels-idx1-ubyte.gz\n",
            "32768/29515 [=================================] - 0s 0us/step\n",
            "Downloading data from https://storage.googleapis.com/tensorflow/tf-keras-datasets/train-images-idx3-ubyte.gz\n",
            "26427392/26421880 [==============================] - 0s 0us/step\n",
            "Downloading data from https://storage.googleapis.com/tensorflow/tf-keras-datasets/t10k-labels-idx1-ubyte.gz\n",
            "8192/5148 [===============================================] - 0s 0us/step\n",
            "Downloading data from https://storage.googleapis.com/tensorflow/tf-keras-datasets/t10k-images-idx3-ubyte.gz\n",
            "4423680/4422102 [==============================] - 0s 0us/step\n"
          ],
          "name": "stdout"
        }
      ]
    },
    {
      "cell_type": "code",
      "metadata": {
        "id": "etFF0igNK1l_",
        "colab_type": "code",
        "outputId": "8304c894-5bca-409b-9998-131b4a558456",
        "colab": {
          "base_uri": "https://localhost:8080/",
          "height": 34
        }
      },
      "source": [
        "X_train_full.shape"
      ],
      "execution_count": 0,
      "outputs": [
        {
          "output_type": "execute_result",
          "data": {
            "text/plain": [
              "(60000, 28, 28)"
            ]
          },
          "metadata": {
            "tags": []
          },
          "execution_count": 5
        }
      ]
    },
    {
      "cell_type": "code",
      "metadata": {
        "id": "D0l-WWrkK8M_",
        "colab_type": "code",
        "outputId": "d82b6db2-52d7-4f6e-bbce-83bd424019c3",
        "colab": {
          "base_uri": "https://localhost:8080/",
          "height": 265
        }
      },
      "source": [
        "import matplotlib.pyplot as plt\n",
        "plt.imshow(X_train_full[0], cmap=plt.cm.binary, interpolation='gaussian')\n",
        "plt.axis('off')"
      ],
      "execution_count": 0,
      "outputs": [
        {
          "output_type": "execute_result",
          "data": {
            "text/plain": [
              "(-0.5, 27.5, 27.5, -0.5)"
            ]
          },
          "metadata": {
            "tags": []
          },
          "execution_count": 6
        },
        {
          "output_type": "display_data",
          "data": {
            "image/png": "[encoded data removed]",
            "text/plain": [
              "<Figure size 432x288 with 1 Axes>"
            ]
          },
          "metadata": {
            "tags": []
          }
        }
      ]
    },
    {
      "cell_type": "code",
      "metadata": {
        "id": "uL8tm2_mMgFH",
        "colab_type": "code",
        "colab": {}
      },
      "source": [
        "model = keras.Sequential([\n",
        "        keras.layers.Flatten(input_shape=(28,28)),\n",
        "        keras.layers.Dense(300, activation='relu'),\n",
        "        keras.layers.Dense(100, activation='relu'),\n",
        "        keras.layers.Dense(10, activation='softmax')\n",
        "])"
      ],
      "execution_count": 0,
      "outputs": []
    },
    {
      "cell_type": "code",
      "metadata": {
        "id": "AelrWCDcPPlK",
        "colab_type": "code",
        "colab": {}
      },
      "source": [
        "X_train_scaled, X_test_scaled =X_train_full / 255.0, X_test/255.0 "
      ],
      "execution_count": 0,
      "outputs": []
    },
    {
      "cell_type": "code",
      "metadata": {
        "id": "lHNFgmBFQCC_",
        "colab_type": "code",
        "colab": {}
      },
      "source": [
        "model.compile(optimizer='sgd', loss=keras.losses.sparse_categorical_crossentropy, metrics=['accuracy'])"
      ],
      "execution_count": 0,
      "outputs": []
    },
    {
      "cell_type": "code",
      "metadata": {
        "id": "n76ToAfAQ4R3",
        "colab_type": "code",
        "outputId": "1fb57ed0-8490-4a9f-9dff-a7de5af0044d",
        "colab": {
          "base_uri": "https://localhost:8080/",
          "height": 1000
        }
      },
      "source": [
        "history=model.fit(X_train_scaled, y_train_full, validation_split=0.2, epochs=30)"
      ],
      "execution_count": 0,
      "outputs": [
        {
          "output_type": "stream",
          "text": [
            "Train on 48000 samples, validate on 12000 samples\n",
            "Epoch 1/30\n",
            "48000/48000 [==============================] - 7s 146us/sample - loss: 0.7310 - accuracy: 0.7595 - val_loss: 0.5621 - val_accuracy: 0.8037\n",
            "Epoch 2/30\n",
            "48000/48000 [==============================] - 6s 131us/sample - loss: 0.4970 - accuracy: 0.8268 - val_loss: 0.4690 - val_accuracy: 0.8380\n",
            "Epoch 3/30\n",
            "48000/48000 [==============================] - 6s 126us/sample - loss: 0.4488 - accuracy: 0.8431 - val_loss: 0.4355 - val_accuracy: 0.8462\n",
            "Epoch 4/30\n",
            "48000/48000 [==============================] - 6s 124us/sample - loss: 0.4219 - accuracy: 0.8511 - val_loss: 0.4182 - val_accuracy: 0.8557\n",
            "Epoch 5/30\n",
            "48000/48000 [==============================] - 6s 121us/sample - loss: 0.4034 - accuracy: 0.8578 - val_loss: 0.4226 - val_accuracy: 0.8488\n",
            "Epoch 6/30\n",
            "48000/48000 [==============================] - 6s 120us/sample - loss: 0.3869 - accuracy: 0.8643 - val_loss: 0.3943 - val_accuracy: 0.8623\n",
            "Epoch 7/30\n",
            "48000/48000 [==============================] - 6s 126us/sample - loss: 0.3738 - accuracy: 0.8690 - val_loss: 0.3989 - val_accuracy: 0.8613\n",
            "Epoch 8/30\n",
            "48000/48000 [==============================] - 6s 124us/sample - loss: 0.3627 - accuracy: 0.8714 - val_loss: 0.3806 - val_accuracy: 0.8658\n",
            "Epoch 9/30\n",
            "48000/48000 [==============================] - 6s 117us/sample - loss: 0.3520 - accuracy: 0.8744 - val_loss: 0.3788 - val_accuracy: 0.8688\n",
            "Epoch 10/30\n",
            "48000/48000 [==============================] - 6s 115us/sample - loss: 0.3425 - accuracy: 0.8782 - val_loss: 0.3810 - val_accuracy: 0.8647\n",
            "Epoch 11/30\n",
            "48000/48000 [==============================] - 6s 120us/sample - loss: 0.3329 - accuracy: 0.8811 - val_loss: 0.3689 - val_accuracy: 0.8696\n",
            "Epoch 12/30\n",
            "48000/48000 [==============================] - 6s 115us/sample - loss: 0.3256 - accuracy: 0.8835 - val_loss: 0.3573 - val_accuracy: 0.8731\n",
            "Epoch 13/30\n",
            "48000/48000 [==============================] - 6s 120us/sample - loss: 0.3189 - accuracy: 0.8859 - val_loss: 0.3530 - val_accuracy: 0.8746\n",
            "Epoch 14/30\n",
            "48000/48000 [==============================] - 6s 120us/sample - loss: 0.3114 - accuracy: 0.8886 - val_loss: 0.3477 - val_accuracy: 0.8755\n",
            "Epoch 15/30\n",
            "48000/48000 [==============================] - 6s 124us/sample - loss: 0.3051 - accuracy: 0.8908 - val_loss: 0.3403 - val_accuracy: 0.8796\n",
            "Epoch 16/30\n",
            "48000/48000 [==============================] - 6s 123us/sample - loss: 0.2980 - accuracy: 0.8937 - val_loss: 0.3349 - val_accuracy: 0.8829\n",
            "Epoch 17/30\n",
            "48000/48000 [==============================] - 6s 120us/sample - loss: 0.2933 - accuracy: 0.8950 - val_loss: 0.3334 - val_accuracy: 0.8796\n",
            "Epoch 18/30\n",
            "48000/48000 [==============================] - 6s 119us/sample - loss: 0.2868 - accuracy: 0.8970 - val_loss: 0.3440 - val_accuracy: 0.8811\n",
            "Epoch 19/30\n",
            "48000/48000 [==============================] - 6s 122us/sample - loss: 0.2812 - accuracy: 0.8991 - val_loss: 0.3312 - val_accuracy: 0.8831\n",
            "Epoch 20/30\n",
            "48000/48000 [==============================] - 6s 120us/sample - loss: 0.2760 - accuracy: 0.9008 - val_loss: 0.3306 - val_accuracy: 0.8824\n",
            "Epoch 21/30\n",
            "48000/48000 [==============================] - 6s 125us/sample - loss: 0.2713 - accuracy: 0.9013 - val_loss: 0.3238 - val_accuracy: 0.8851\n",
            "Epoch 22/30\n",
            "48000/48000 [==============================] - 6s 119us/sample - loss: 0.2654 - accuracy: 0.9029 - val_loss: 0.3345 - val_accuracy: 0.8818\n",
            "Epoch 23/30\n",
            "48000/48000 [==============================] - 6s 115us/sample - loss: 0.2623 - accuracy: 0.9052 - val_loss: 0.3400 - val_accuracy: 0.8769\n",
            "Epoch 24/30\n",
            "48000/48000 [==============================] - 6s 122us/sample - loss: 0.2567 - accuracy: 0.9093 - val_loss: 0.3578 - val_accuracy: 0.8707\n",
            "Epoch 25/30\n",
            "48000/48000 [==============================] - 6s 125us/sample - loss: 0.2532 - accuracy: 0.9088 - val_loss: 0.3187 - val_accuracy: 0.8868\n",
            "Epoch 26/30\n",
            "48000/48000 [==============================] - 6s 120us/sample - loss: 0.2495 - accuracy: 0.9097 - val_loss: 0.3194 - val_accuracy: 0.8855\n",
            "Epoch 27/30\n",
            "48000/48000 [==============================] - 6s 119us/sample - loss: 0.2442 - accuracy: 0.9120 - val_loss: 0.3181 - val_accuracy: 0.8851\n",
            "Epoch 28/30\n",
            "48000/48000 [==============================] - 6s 120us/sample - loss: 0.2401 - accuracy: 0.9134 - val_loss: 0.3173 - val_accuracy: 0.8875\n",
            "Epoch 29/30\n",
            "48000/48000 [==============================] - 6s 123us/sample - loss: 0.2364 - accuracy: 0.9144 - val_loss: 0.3231 - val_accuracy: 0.8842\n",
            "Epoch 30/30\n",
            "48000/48000 [==============================] - 6s 121us/sample - loss: 0.2325 - accuracy: 0.9166 - val_loss: 0.3131 - val_accuracy: 0.8889\n"
          ],
          "name": "stdout"
        }
      ]
    },
    {
      "cell_type": "code",
      "metadata": {
        "id": "2qhClP0LRLZn",
        "colab_type": "code",
        "colab": {}
      },
      "source": [
        "history_df=pd.DataFrame(history.history)"
      ],
      "execution_count": 0,
      "outputs": []
    },
    {
      "cell_type": "code",
      "metadata": {
        "id": "AK-fprVX71J_",
        "colab_type": "code",
        "outputId": "e8d5b558-18e5-4f2a-83d5-77a4864f5057",
        "colab": {
          "base_uri": "https://localhost:8080/",
          "height": 324
        }
      },
      "source": [
        "history_df.plot(figsize = (8,5))\n",
        "plt.grid(True)\n",
        "plt.gca().set_ylim(0,1)\n",
        "plt.show()"
      ],
      "execution_count": 0,
      "outputs": [
        {
          "output_type": "display_data",
          "data": {
            "image/png": "[encoded data removed]",
            "text/plain": [
              "<Figure size 576x360 with 1 Axes>"
            ]
          },
          "metadata": {
            "tags": []
          }
        }
      ]
    },
    {
      "cell_type": "code",
      "metadata": {
        "id": "fmk8vMNF73fC",
        "colab_type": "code",
        "outputId": "a06d6a2a-0987-40ae-ff86-d3797051c84f",
        "colab": {
          "base_uri": "https://localhost:8080/",
          "height": 51
        }
      },
      "source": [
        "model.evaluate(X_test_scaled, y_test, verbose=2)"
      ],
      "execution_count": 0,
      "outputs": [
        {
          "output_type": "stream",
          "text": [
            "10000/10000 - 1s - loss: 0.3358 - accuracy: 0.8811\n"
          ],
          "name": "stdout"
        },
        {
          "output_type": "execute_result",
          "data": {
            "text/plain": [
              "[0.3358323482275009, 0.8811]"
            ]
          },
          "metadata": {
            "tags": []
          },
          "execution_count": 14
        }
      ]
    },
    {
      "cell_type": "code",
      "metadata": {
        "id": "NH9hYSEG77hQ",
        "colab_type": "code",
        "outputId": "229217f7-954d-4b0a-c403-d1535e4f4666",
        "colab": {
          "base_uri": "https://localhost:8080/",
          "height": 527
        }
      },
      "source": [
        "model.predict(X_test_scaled[:10])"
      ],
      "execution_count": 0,
      "outputs": [
        {
          "output_type": "execute_result",
          "data": {
            "text/plain": [
              "array([[7.33886623e-07, 7.81836889e-07, 3.17077756e-05, 7.27750330e-06,\n",
              "        4.19347907e-06, 1.09734181e-02, 1.03311631e-05, 5.59437228e-03,\n",
              "        4.05255007e-04, 9.82971966e-01],\n",
              "       [1.38452342e-05, 1.94405891e-09, 9.95067477e-01, 9.39258413e-08,\n",
              "        4.26437659e-03, 9.04741976e-11, 6.53227442e-04, 2.13043166e-10,\n",
              "        9.64408173e-07, 1.47936058e-12],\n",
              "       [1.40619295e-05, 9.99984264e-01, 6.12122975e-08, 1.45365209e-06,\n",
              "        9.24009314e-08, 5.03166259e-12, 6.10292759e-08, 1.33179590e-09,\n",
              "        2.61942983e-08, 1.12317577e-09],\n",
              "       [1.96391702e-05, 9.99941349e-01, 7.53777329e-07, 3.54387412e-05,\n",
              "        8.54736470e-07, 3.25619198e-10, 1.87015746e-06, 1.48498271e-08,\n",
              "        2.83373520e-08, 4.55383855e-08],\n",
              "       [7.61053562e-02, 4.42277496e-06, 8.25231522e-03, 3.06024362e-04,\n",
              "        2.11692974e-03, 2.96426151e-07, 9.13026512e-01, 1.23167254e-07,\n",
              "        1.86797435e-04, 1.29713021e-06],\n",
              "       [3.38302722e-04, 9.99627709e-01, 4.94071355e-06, 1.29297468e-05,\n",
              "        5.97526559e-06, 4.21615326e-10, 9.72707494e-06, 4.66608654e-08,\n",
              "        3.39569112e-07, 1.23880222e-08],\n",
              "       [8.27460317e-05, 1.12393072e-05, 2.46308860e-03, 1.19873823e-03,\n",
              "        9.83505428e-01, 2.51529418e-04, 1.23973368e-02, 8.77278239e-07,\n",
              "        8.89223229e-05, 1.85333899e-08],\n",
              "       [3.34898396e-05, 2.91825131e-07, 5.01731178e-04, 1.23650952e-05,\n",
              "        7.34000746e-03, 5.73046066e-07, 9.92104769e-01, 4.18791490e-09,\n",
              "        6.73935938e-06, 1.30482087e-08],\n",
              "       [2.77396524e-04, 5.23976123e-05, 2.18465852e-04, 3.64627165e-04,\n",
              "        4.61009768e-05, 9.96049941e-01, 4.43476456e-04, 2.40200874e-03,\n",
              "        1.08247710e-04, 3.74964184e-05],\n",
              "       [1.81913838e-05, 7.72970816e-06, 1.10612773e-05, 9.24333017e-06,\n",
              "        5.79703794e-07, 4.10955725e-03, 9.60896705e-06, 9.94419158e-01,\n",
              "        6.56496908e-04, 7.58352806e-04]], dtype=float32)"
            ]
          },
          "metadata": {
            "tags": []
          },
          "execution_count": 15
        }
      ]
    },
    {
      "cell_type": "code",
      "metadata": {
        "id": "dsmYRpzW8EdC",
        "colab_type": "code",
        "outputId": "360d7e31-5e69-47ce-aa52-567b773d853a",
        "colab": {
          "base_uri": "https://localhost:8080/",
          "height": 34
        }
      },
      "source": [
        "model.predict_classes(X_test_scaled[:10])"
      ],
      "execution_count": 0,
      "outputs": [
        {
          "output_type": "execute_result",
          "data": {
            "text/plain": [
              "array([9, 2, 1, 1, 6, 1, 4, 6, 5, 7])"
            ]
          },
          "metadata": {
            "tags": []
          },
          "execution_count": 16
        }
      ]
    },
    {
      "cell_type": "code",
      "metadata": {
        "id": "8ZXvoRkk_s-q",
        "colab_type": "code",
        "colab": {}
      },
      "source": [
        ""
      ],
      "execution_count": 0,
      "outputs": []
    }
  ]
}