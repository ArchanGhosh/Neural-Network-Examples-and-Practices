{
  "nbformat": 4,
  "nbformat_minor": 0,
  "metadata": {
    "colab": {
      "name": "Custom Keras Models.ipynb",
      "provenance": [],
      "authorship_tag": "ABX9TyNQiyfiaG02jdroXkBxrsb4",
      "include_colab_link": true
    },
    "kernelspec": {
      "name": "python3",
      "display_name": "Python 3"
    }
  },
  "cells": [
    {
      "cell_type": "markdown",
      "metadata": {
        "id": "view-in-github",
        "colab_type": "text"
      },
      "source": [
        "<a href=\"https://colab.research.google.com/github/ArchanGhosh/Neural-Network-Examples-and-Practices/blob/master/Custom_Keras_Models.ipynb\" target=\"_parent\"><img src=\"https://colab.research.google.com/assets/colab-badge.svg\" alt=\"Open In Colab\"/></a>"
      ]
    },
    {
      "cell_type": "code",
      "metadata": {
        "id": "u6gdCTcj3miW",
        "colab_type": "code",
        "outputId": "546b0edf-6407-4745-a1f8-7271ee01bb2a",
        "colab": {
          "base_uri": "https://localhost:8080/",
          "height": 34
        }
      },
      "source": [
        "%tensorflow_version 2.x"
      ],
      "execution_count": 0,
      "outputs": [
        {
          "output_type": "stream",
          "text": [
            "TensorFlow 2.x selected.\n"
          ],
          "name": "stdout"
        }
      ]
    },
    {
      "cell_type": "code",
      "metadata": {
        "id": "3LTHM1SP3P9a",
        "colab_type": "code",
        "colab": {}
      },
      "source": [
        "import numpy as np\n",
        "import pandas as pd\n",
        "import tensorflow as tf\n",
        "import tensorflow.keras as keras"
      ],
      "execution_count": 0,
      "outputs": []
    },
    {
      "cell_type": "code",
      "metadata": {
        "id": "XIWZo4h83wGn",
        "colab_type": "code",
        "colab": {}
      },
      "source": [
        "class WideAndDeep(keras.Model):\n",
        "  def __init__(self, units=30, activation='relu', **kwargs):\n",
        "    super().__init__(kwargs)\n",
        "    self.hidden1 = keras.layers.Dense(units, activation=activation)\n",
        "    self.hidden2 = keras.layers.Dense(units, activation=activation)\n",
        "    self.main_output = keras.layers.Dense(1)\n",
        "    self.aux_output = keras.layers.Dense(1)\n",
        "\n",
        "  def call(self, inputs):\n",
        "    input_a, input_b = inputs\n",
        "    hidden1=self.hidden1(input_b)\n",
        "    hidden2=self.hidden2(hidden1)\n",
        "    concat= keras.layers.concatenate([input_a,hidden2])\n",
        "    main_output=self.main_output(concat)\n",
        "    aux_output=self.aux_output(hidden2)\n",
        "    return main_output, aux_output\n"
      ],
      "execution_count": 0,
      "outputs": []
    },
    {
      "cell_type": "code",
      "metadata": {
        "id": "ouzavvLXBHR-",
        "colab_type": "code",
        "outputId": "0a7c94a0-1c98-4576-ab75-a32258130b76",
        "colab": {
          "base_uri": "https://localhost:8080/",
          "height": 34
        }
      },
      "source": [
        "from keras.datasets import boston_housing"
      ],
      "execution_count": 0,
      "outputs": [
        {
          "output_type": "stream",
          "text": [
            "Using TensorFlow backend.\n"
          ],
          "name": "stderr"
        }
      ]
    },
    {
      "cell_type": "code",
      "metadata": {
        "id": "fleLeaKsBnBy",
        "colab_type": "code",
        "colab": {}
      },
      "source": [
        "from sklearn.preprocessing import StandardScaler\n",
        "import pandas as pd"
      ],
      "execution_count": 0,
      "outputs": []
    },
    {
      "cell_type": "code",
      "metadata": {
        "id": "XVmStGQoBcMi",
        "colab_type": "code",
        "colab": {}
      },
      "source": [
        "(X_train, y_train), (X_test, y_test) = boston_housing.load_data()"
      ],
      "execution_count": 0,
      "outputs": []
    },
    {
      "cell_type": "code",
      "metadata": {
        "id": "PJbM0NHZBf2f",
        "colab_type": "code",
        "colab": {}
      },
      "source": [
        "scaler=StandardScaler()"
      ],
      "execution_count": 0,
      "outputs": []
    },
    {
      "cell_type": "code",
      "metadata": {
        "id": "6Gya9bG1Biz4",
        "colab_type": "code",
        "colab": {}
      },
      "source": [
        "X_train_scaled = scaler.fit_transform(X_train)"
      ],
      "execution_count": 0,
      "outputs": []
    },
    {
      "cell_type": "code",
      "metadata": {
        "id": "XWcPPVr4Bo7q",
        "colab_type": "code",
        "colab": {}
      },
      "source": [
        "X_test_scaled = scaler.fit_transform(X_test)"
      ],
      "execution_count": 0,
      "outputs": []
    },
    {
      "cell_type": "code",
      "metadata": {
        "id": "7sWSlf3qDTro",
        "colab_type": "code",
        "colab": {}
      },
      "source": [
        "input_a = X_train_scaled[:,:9]"
      ],
      "execution_count": 0,
      "outputs": []
    },
    {
      "cell_type": "code",
      "metadata": {
        "id": "PYTBc63_DTh4",
        "colab_type": "code",
        "colab": {}
      },
      "source": [
        "input_b =X_train_scaled[:,6:]"
      ],
      "execution_count": 0,
      "outputs": []
    },
    {
      "cell_type": "code",
      "metadata": {
        "id": "QfrDxqR1Cogg",
        "colab_type": "code",
        "colab": {}
      },
      "source": [
        "model = WideAndDeep(units=100,inputs=[input_a,input_b])"
      ],
      "execution_count": 0,
      "outputs": []
    },
    {
      "cell_type": "code",
      "metadata": {
        "id": "L83vhcAYChvr",
        "colab_type": "code",
        "colab": {}
      },
      "source": [
        "model.compile(loss=['mse', 'mse'], optimizer=keras.optimizers.SGD(), loss_weights=[0.9,0.1])"
      ],
      "execution_count": 0,
      "outputs": []
    },
    {
      "cell_type": "code",
      "metadata": {
        "id": "mth1793uCkxW",
        "colab_type": "code",
        "outputId": "3ec22ba4-a7f9-48c4-aa8f-fb64bcf350d8",
        "colab": {
          "base_uri": "https://localhost:8080/",
          "height": 1000
        }
      },
      "source": [
        "history=model.fit([input_a,input_b ], [y_train,y_train], validation_split=0.2, epochs=30)"
      ],
      "execution_count": 0,
      "outputs": [
        {
          "output_type": "stream",
          "text": [
            "Train on 323 samples, validate on 81 samples\n",
            "Epoch 1/30\n",
            "323/323 [==============================] - 0s 1ms/sample - loss: 297.3767 - output_1_loss: 270.4585 - output_2_loss: 376.7158 - val_loss: 161.8280 - val_output_1_loss: 141.1762 - val_output_2_loss: 266.9707\n",
            "Epoch 2/30\n",
            "323/323 [==============================] - 0s 94us/sample - loss: 106.2292 - output_1_loss: 97.9513 - output_2_loss: 129.2476 - val_loss: 144.9448 - val_output_1_loss: 139.7555 - val_output_2_loss: 124.1209\n",
            "Epoch 3/30\n",
            "323/323 [==============================] - 0s 87us/sample - loss: 40.3256 - output_1_loss: 40.7742 - output_2_loss: 56.9791 - val_loss: 36.3405 - val_output_1_loss: 34.9217 - val_output_2_loss: 29.4754\n",
            "Epoch 4/30\n",
            "323/323 [==============================] - 0s 86us/sample - loss: 26.1725 - output_1_loss: 25.2726 - output_2_loss: 31.6244 - val_loss: 57.5640 - val_output_1_loss: 60.5253 - val_output_2_loss: 32.7682\n",
            "Epoch 5/30\n",
            "323/323 [==============================] - 0s 102us/sample - loss: 39.0096 - output_1_loss: 36.7840 - output_2_loss: 39.6703 - val_loss: 59.2701 - val_output_1_loss: 60.6788 - val_output_2_loss: 31.0135\n",
            "Epoch 6/30\n",
            "323/323 [==============================] - 0s 98us/sample - loss: 41.6591 - output_1_loss: 40.4090 - output_2_loss: 45.2779 - val_loss: 44.7237 - val_output_1_loss: 42.5998 - val_output_2_loss: 43.8287\n",
            "Epoch 7/30\n",
            "323/323 [==============================] - 0s 91us/sample - loss: 21.1232 - output_1_loss: 18.8850 - output_2_loss: 29.0124 - val_loss: 16.4836 - val_output_1_loss: 16.0793 - val_output_2_loss: 15.9998\n",
            "Epoch 8/30\n",
            "323/323 [==============================] - 0s 89us/sample - loss: 22.1986 - output_1_loss: 21.6286 - output_2_loss: 31.6562 - val_loss: 207.9404 - val_output_1_loss: 210.8568 - val_output_2_loss: 124.0381\n",
            "Epoch 9/30\n",
            "323/323 [==============================] - 0s 99us/sample - loss: 106.8123 - output_1_loss: 99.0641 - output_2_loss: 107.4956 - val_loss: 78.5998 - val_output_1_loss: 76.4506 - val_output_2_loss: 85.5359\n",
            "Epoch 10/30\n",
            "323/323 [==============================] - 0s 93us/sample - loss: 28.8427 - output_1_loss: 25.0012 - output_2_loss: 42.6625 - val_loss: 15.4169 - val_output_1_loss: 14.6149 - val_output_2_loss: 19.4778\n",
            "Epoch 11/30\n",
            "323/323 [==============================] - 0s 106us/sample - loss: 21.2201 - output_1_loss: 18.4692 - output_2_loss: 29.9212 - val_loss: 12.9310 - val_output_1_loss: 11.3739 - val_output_2_loss: 20.6660\n",
            "Epoch 12/30\n",
            "323/323 [==============================] - 0s 96us/sample - loss: 17.8136 - output_1_loss: 20.1252 - output_2_loss: 35.7232 - val_loss: 114.6157 - val_output_1_loss: 109.1488 - val_output_2_loss: 86.2020\n",
            "Epoch 13/30\n",
            "323/323 [==============================] - 0s 100us/sample - loss: 27.3208 - output_1_loss: 24.3578 - output_2_loss: 35.0103 - val_loss: 21.5146 - val_output_1_loss: 22.0248 - val_output_2_loss: 16.1264\n",
            "Epoch 14/30\n",
            "323/323 [==============================] - 0s 101us/sample - loss: 18.6256 - output_1_loss: 17.9684 - output_2_loss: 25.7070 - val_loss: 18.2461 - val_output_1_loss: 19.8070 - val_output_2_loss: 16.1985\n",
            "Epoch 15/30\n",
            "323/323 [==============================] - 0s 96us/sample - loss: 15.0859 - output_1_loss: 14.2343 - output_2_loss: 22.9684 - val_loss: 19.1997 - val_output_1_loss: 20.8877 - val_output_2_loss: 17.9965\n",
            "Epoch 16/30\n",
            "323/323 [==============================] - 0s 95us/sample - loss: 17.0176 - output_1_loss: 17.8032 - output_2_loss: 27.4542 - val_loss: 184.1080 - val_output_1_loss: 174.9680 - val_output_2_loss: 107.9698\n",
            "Epoch 17/30\n",
            "323/323 [==============================] - 0s 90us/sample - loss: 57.9705 - output_1_loss: 52.9742 - output_2_loss: 61.4675 - val_loss: 17.9285 - val_output_1_loss: 15.6767 - val_output_2_loss: 28.1755\n",
            "Epoch 18/30\n",
            "323/323 [==============================] - 0s 111us/sample - loss: 16.2248 - output_1_loss: 15.5822 - output_2_loss: 25.9385 - val_loss: 21.9116 - val_output_1_loss: 22.1891 - val_output_2_loss: 25.1263\n",
            "Epoch 19/30\n",
            "323/323 [==============================] - 0s 96us/sample - loss: 16.5032 - output_1_loss: 14.4157 - output_2_loss: 24.7244 - val_loss: 13.0449 - val_output_1_loss: 12.6823 - val_output_2_loss: 13.7847\n",
            "Epoch 20/30\n",
            "323/323 [==============================] - 0s 97us/sample - loss: 15.3453 - output_1_loss: 14.4012 - output_2_loss: 21.0379 - val_loss: 16.2843 - val_output_1_loss: 16.7450 - val_output_2_loss: 15.0594\n",
            "Epoch 21/30\n",
            "323/323 [==============================] - 0s 149us/sample - loss: 14.3488 - output_1_loss: 12.7218 - output_2_loss: 17.9232 - val_loss: 11.7832 - val_output_1_loss: 10.4564 - val_output_2_loss: 16.3687\n",
            "Epoch 22/30\n",
            "323/323 [==============================] - 0s 96us/sample - loss: 15.1214 - output_1_loss: 13.7912 - output_2_loss: 19.9703 - val_loss: 17.3450 - val_output_1_loss: 17.4464 - val_output_2_loss: 16.3659\n",
            "Epoch 23/30\n",
            "323/323 [==============================] - 0s 95us/sample - loss: 15.1604 - output_1_loss: 13.7385 - output_2_loss: 18.8778 - val_loss: 16.2134 - val_output_1_loss: 16.3092 - val_output_2_loss: 17.4896\n",
            "Epoch 24/30\n",
            "323/323 [==============================] - 0s 95us/sample - loss: 13.9624 - output_1_loss: 12.5820 - output_2_loss: 17.7674 - val_loss: 12.0209 - val_output_1_loss: 11.2484 - val_output_2_loss: 14.6886\n",
            "Epoch 25/30\n",
            "323/323 [==============================] - 0s 92us/sample - loss: 12.6118 - output_1_loss: 12.8910 - output_2_loss: 20.3222 - val_loss: 61.8983 - val_output_1_loss: 59.6026 - val_output_2_loss: 42.3618\n",
            "Epoch 26/30\n",
            "323/323 [==============================] - 0s 91us/sample - loss: 21.9118 - output_1_loss: 20.8365 - output_2_loss: 22.6167 - val_loss: 14.7725 - val_output_1_loss: 14.0277 - val_output_2_loss: 14.7450\n",
            "Epoch 27/30\n",
            "323/323 [==============================] - 0s 88us/sample - loss: 14.1318 - output_1_loss: 13.4506 - output_2_loss: 16.4654 - val_loss: 28.3748 - val_output_1_loss: 25.9757 - val_output_2_loss: 22.7379\n",
            "Epoch 28/30\n",
            "323/323 [==============================] - 0s 90us/sample - loss: 14.2390 - output_1_loss: 12.8883 - output_2_loss: 17.5719 - val_loss: 10.7955 - val_output_1_loss: 9.7509 - val_output_2_loss: 13.7517\n",
            "Epoch 29/30\n",
            "323/323 [==============================] - 0s 89us/sample - loss: 17.5342 - output_1_loss: 16.6626 - output_2_loss: 18.0795 - val_loss: 11.0247 - val_output_1_loss: 10.2906 - val_output_2_loss: 13.3035\n",
            "Epoch 30/30\n",
            "323/323 [==============================] - 0s 92us/sample - loss: 12.8919 - output_1_loss: 12.2672 - output_2_loss: 14.5801 - val_loss: 10.4597 - val_output_1_loss: 9.0922 - val_output_2_loss: 13.4508\n"
          ],
          "name": "stdout"
        }
      ]
    },
    {
      "cell_type": "code",
      "metadata": {
        "id": "SoukQKsiJ-LX",
        "colab_type": "code",
        "outputId": "c38194a4-eded-427f-952c-b5bf0ae37878",
        "colab": {
          "base_uri": "https://localhost:8080/",
          "height": 289
        }
      },
      "source": [
        "model.summary()"
      ],
      "execution_count": 0,
      "outputs": [
        {
          "output_type": "stream",
          "text": [
            "Model: \"wide_and_deep\"\n",
            "_________________________________________________________________\n",
            "Layer (type)                 Output Shape              Param #   \n",
            "=================================================================\n",
            "dense (Dense)                multiple                  800       \n",
            "_________________________________________________________________\n",
            "dense_1 (Dense)              multiple                  10100     \n",
            "_________________________________________________________________\n",
            "dense_2 (Dense)              multiple                  110       \n",
            "_________________________________________________________________\n",
            "dense_3 (Dense)              multiple                  101       \n",
            "=================================================================\n",
            "Total params: 11,111\n",
            "Trainable params: 11,111\n",
            "Non-trainable params: 0\n",
            "_________________________________________________________________\n"
          ],
          "name": "stdout"
        }
      ]
    },
    {
      "cell_type": "code",
      "metadata": {
        "id": "bg7WVEb0D6iS",
        "colab_type": "code",
        "outputId": "63bcb4aa-fd25-47cf-a74d-b38d88376bc1",
        "colab": {
          "base_uri": "https://localhost:8080/",
          "height": 51
        }
      },
      "source": [
        "model.evaluate([X_test_scaled[:,:9], X_test_scaled[:,6:]], [y_test, y_test], verbose=2)"
      ],
      "execution_count": 0,
      "outputs": [
        {
          "output_type": "stream",
          "text": [
            "102/102 - 0s - loss: 26.4927 - output_1_loss: 55.7844 - output_2_loss: 43.6140\n"
          ],
          "name": "stdout"
        },
        {
          "output_type": "execute_result",
          "data": {
            "text/plain": [
              "[26.49265124751072, 55.784393, 43.61399]"
            ]
          },
          "metadata": {
            "tags": []
          },
          "execution_count": 16
        }
      ]
    },
    {
      "cell_type": "code",
      "metadata": {
        "id": "OX7db0_hHIws",
        "colab_type": "code",
        "outputId": "2cb8ac9d-baaa-4471-a180-c3a560d1600f",
        "colab": {
          "base_uri": "https://localhost:8080/",
          "height": 1000
        }
      },
      "source": [
        "model.predict([X_test_scaled[:,:9],X_test_scaled[:,6:]])"
      ],
      "execution_count": 0,
      "outputs": [
        {
          "output_type": "execute_result",
          "data": {
            "text/plain": [
              "[array([[13.661742 ],\n",
              "        [19.618425 ],\n",
              "        [19.6497   ],\n",
              "        [36.661003 ],\n",
              "        [22.980713 ],\n",
              "        [20.797771 ],\n",
              "        [30.455708 ],\n",
              "        [23.176651 ],\n",
              "        [19.383396 ],\n",
              "        [19.701904 ],\n",
              "        [15.042027 ],\n",
              "        [17.343376 ],\n",
              "        [17.610657 ],\n",
              "        [38.90831  ],\n",
              "        [17.222404 ],\n",
              "        [20.540386 ],\n",
              "        [23.963177 ],\n",
              "        [21.800041 ],\n",
              "        [17.451195 ],\n",
              "        [23.376667 ],\n",
              "        [12.187694 ],\n",
              "        [11.1044235],\n",
              "        [20.60994  ],\n",
              "        [15.225219 ],\n",
              "        [22.415127 ],\n",
              "        [23.74961  ],\n",
              "        [27.509937 ],\n",
              "        [27.83516  ],\n",
              "        [13.484258 ],\n",
              "        [21.262665 ],\n",
              "        [21.045456 ],\n",
              "        [15.344565 ],\n",
              "        [36.26323  ],\n",
              "        [22.641392 ],\n",
              "        [16.110544 ],\n",
              "        [11.240771 ],\n",
              "        [15.971251 ],\n",
              "        [17.988224 ],\n",
              "        [17.87194  ],\n",
              "        [27.645393 ],\n",
              "        [23.132126 ],\n",
              "        [26.938591 ],\n",
              "        [15.113513 ],\n",
              "        [40.981987 ],\n",
              "        [33.099823 ],\n",
              "        [23.015629 ],\n",
              "        [27.694279 ],\n",
              "        [19.077719 ],\n",
              "        [26.445019 ],\n",
              "        [22.053684 ],\n",
              "        [31.778236 ],\n",
              "        [18.88942  ],\n",
              "        [11.080601 ],\n",
              "        [15.554    ],\n",
              "        [35.79032  ],\n",
              "        [26.2984   ],\n",
              "        [14.979001 ],\n",
              "        [42.271618 ],\n",
              "        [39.09421  ],\n",
              "        [22.239258 ],\n",
              "        [25.68137  ],\n",
              "        [17.237225 ],\n",
              "        [16.325089 ],\n",
              "        [20.52982  ],\n",
              "        [23.10841  ],\n",
              "        [24.495846 ],\n",
              "        [16.35458  ],\n",
              "        [25.819729 ],\n",
              "        [14.586307 ],\n",
              "        [12.912249 ],\n",
              "        [21.553822 ],\n",
              "        [27.56572  ],\n",
              "        [20.921833 ],\n",
              "        [14.869967 ],\n",
              "        [26.376034 ],\n",
              "        [19.466438 ],\n",
              "        [20.949959 ],\n",
              "        [22.997952 ],\n",
              "        [38.88384  ],\n",
              "        [11.320429 ],\n",
              "        [21.116673 ],\n",
              "        [40.584465 ],\n",
              "        [16.490444 ],\n",
              "        [15.793901 ],\n",
              "        [18.761276 ],\n",
              "        [19.235172 ],\n",
              "        [20.48711  ],\n",
              "        [22.416607 ],\n",
              "        [21.593487 ],\n",
              "        [36.81988  ],\n",
              "        [18.75094  ],\n",
              "        [20.575703 ],\n",
              "        [24.762722 ],\n",
              "        [32.073437 ],\n",
              "        [39.401123 ],\n",
              "        [17.988823 ],\n",
              "        [39.273037 ],\n",
              "        [53.12657  ],\n",
              "        [24.860977 ],\n",
              "        [54.70782  ],\n",
              "        [28.865776 ],\n",
              "        [21.17937  ]], dtype=float32), array([[10.5313015],\n",
              "        [19.331928 ],\n",
              "        [20.665232 ],\n",
              "        [39.11724  ],\n",
              "        [23.11966  ],\n",
              "        [21.394272 ],\n",
              "        [29.020939 ],\n",
              "        [22.775846 ],\n",
              "        [19.09503  ],\n",
              "        [18.734299 ],\n",
              "        [11.683628 ],\n",
              "        [17.760094 ],\n",
              "        [16.45619  ],\n",
              "        [36.562466 ],\n",
              "        [20.477825 ],\n",
              "        [21.004301 ],\n",
              "        [23.582712 ],\n",
              "        [22.409103 ],\n",
              "        [17.849451 ],\n",
              "        [24.453411 ],\n",
              "        [13.474333 ],\n",
              "        [11.016342 ],\n",
              "        [21.522556 ],\n",
              "        [15.179323 ],\n",
              "        [21.635868 ],\n",
              "        [24.274815 ],\n",
              "        [23.946945 ],\n",
              "        [27.297562 ],\n",
              "        [10.49658  ],\n",
              "        [22.164791 ],\n",
              "        [21.11661  ],\n",
              "        [11.065723 ],\n",
              "        [33.647144 ],\n",
              "        [22.672174 ],\n",
              "        [18.535318 ],\n",
              "        [13.188599 ],\n",
              "        [18.216206 ],\n",
              "        [19.185968 ],\n",
              "        [18.376665 ],\n",
              "        [26.017399 ],\n",
              "        [21.20512  ],\n",
              "        [26.083961 ],\n",
              "        [15.70578  ],\n",
              "        [39.494408 ],\n",
              "        [34.562744 ],\n",
              "        [22.21263  ],\n",
              "        [25.50243  ],\n",
              "        [20.34426  ],\n",
              "        [28.313398 ],\n",
              "        [22.436632 ],\n",
              "        [27.906898 ],\n",
              "        [20.095127 ],\n",
              "        [13.182537 ],\n",
              "        [14.893208 ],\n",
              "        [33.374104 ],\n",
              "        [25.892567 ],\n",
              "        [14.551504 ],\n",
              "        [38.842762 ],\n",
              "        [36.885647 ],\n",
              "        [22.022448 ],\n",
              "        [24.154774 ],\n",
              "        [16.865883 ],\n",
              "        [13.00712  ],\n",
              "        [21.182396 ],\n",
              "        [23.422417 ],\n",
              "        [24.004253 ],\n",
              "        [15.780184 ],\n",
              "        [25.938797 ],\n",
              "        [14.087219 ],\n",
              "        [13.137405 ],\n",
              "        [20.940308 ],\n",
              "        [27.094732 ],\n",
              "        [20.857063 ],\n",
              "        [14.611162 ],\n",
              "        [25.2622   ],\n",
              "        [20.00463  ],\n",
              "        [21.803005 ],\n",
              "        [22.694836 ],\n",
              "        [40.019466 ],\n",
              "        [13.106865 ],\n",
              "        [22.105373 ],\n",
              "        [40.69938  ],\n",
              "        [17.934313 ],\n",
              "        [15.463642 ],\n",
              "        [21.014347 ],\n",
              "        [17.624277 ],\n",
              "        [22.359596 ],\n",
              "        [20.062908 ],\n",
              "        [20.40611  ],\n",
              "        [35.726917 ],\n",
              "        [17.72384  ],\n",
              "        [20.833752 ],\n",
              "        [21.551678 ],\n",
              "        [27.268179 ],\n",
              "        [40.650387 ],\n",
              "        [20.905766 ],\n",
              "        [39.715214 ],\n",
              "        [46.358967 ],\n",
              "        [24.77058  ],\n",
              "        [53.618732 ],\n",
              "        [25.1826   ],\n",
              "        [23.01911  ]], dtype=float32)]"
            ]
          },
          "metadata": {
            "tags": []
          },
          "execution_count": 17
        }
      ]
    },
    {
      "cell_type": "code",
      "metadata": {
        "id": "wSCxXY2ZIEMA",
        "colab_type": "code",
        "colab": {}
      },
      "source": [
        "##model.save('wnd.h5')"
      ],
      "execution_count": 0,
      "outputs": []
    },
    {
      "cell_type": "code",
      "metadata": {
        "id": "UeHWUvCYNF8r",
        "colab_type": "code",
        "colab": {}
      },
      "source": [
        "model.save_weights('wnd.h5')"
      ],
      "execution_count": 0,
      "outputs": []
    },
    {
      "cell_type": "code",
      "metadata": {
        "id": "6lQpJ0kvNosR",
        "colab_type": "code",
        "colab": {}
      },
      "source": [
        "import os"
      ],
      "execution_count": 0,
      "outputs": []
    },
    {
      "cell_type": "code",
      "metadata": {
        "id": "NHljBYQsRWrd",
        "colab_type": "code",
        "outputId": "69347386-d2dd-4f79-f0b1-b6e32bc3c5c6",
        "colab": {
          "base_uri": "https://localhost:8080/",
          "height": 34
        }
      },
      "source": [
        "os.listdir('.')"
      ],
      "execution_count": 0,
      "outputs": [
        {
          "output_type": "execute_result",
          "data": {
            "text/plain": [
              "['.config', 'wnd.h5', 'sample_data']"
            ]
          },
          "metadata": {
            "tags": []
          },
          "execution_count": 21
        }
      ]
    },
    {
      "cell_type": "code",
      "metadata": {
        "id": "dGfAZZVjRZpM",
        "colab_type": "code",
        "colab": {}
      },
      "source": [
        ""
      ],
      "execution_count": 0,
      "outputs": []
    }
  ]
}