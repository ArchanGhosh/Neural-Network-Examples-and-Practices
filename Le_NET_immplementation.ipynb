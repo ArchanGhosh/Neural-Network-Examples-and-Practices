{
  "nbformat": 4,
  "nbformat_minor": 0,
  "metadata": {
    "colab": {
      "name": "Le-NET_immplementation.ipynb",
      "provenance": [],
      "authorship_tag": "ABX9TyMtVc6mWML6aVK9bnnyXI0P",
      "include_colab_link": true
    },
    "kernelspec": {
      "name": "python3",
      "display_name": "Python 3"
    }
  },
  "cells": [
    {
      "cell_type": "markdown",
      "metadata": {
        "id": "view-in-github",
        "colab_type": "text"
      },
      "source": [
        "<a href=\"https://colab.research.google.com/github/ArchanGhosh/Neural-Network-Examples-and-Practices/blob/master/Le_NET_immplementation.ipynb\" target=\"_parent\"><img src=\"https://colab.research.google.com/assets/colab-badge.svg\" alt=\"Open In Colab\"/></a>"
      ]
    },
    {
      "cell_type": "code",
      "metadata": {
        "id": "eAffuHSjfmVv",
        "colab_type": "code",
        "outputId": "9b724fee-189e-4a4f-81e2-4f0c51400808",
        "colab": {
          "base_uri": "https://localhost:8080/",
          "height": 102
        }
      },
      "source": [
        "%tensorflow_version 2.0"
      ],
      "execution_count": 0,
      "outputs": [
        {
          "output_type": "stream",
          "text": [
            "`%tensorflow_version` only switches the major version: `1.x` or `2.x`.\n",
            "You set: `2.0`. This will be interpreted as: `2.x`.\n",
            "\n",
            "\n",
            "TensorFlow 2.x selected.\n"
          ],
          "name": "stdout"
        }
      ]
    },
    {
      "cell_type": "code",
      "metadata": {
        "id": "07B5Q_WelwBJ",
        "colab_type": "code",
        "colab": {}
      },
      "source": [
        "%matplotlib inline"
      ],
      "execution_count": 0,
      "outputs": []
    },
    {
      "cell_type": "code",
      "metadata": {
        "id": "kh-x7tFyfmOC",
        "colab_type": "code",
        "colab": {}
      },
      "source": [
        "import tensorflow as tf\n",
        "import tensorflow.keras as keras\n",
        "import numpy as np\n",
        "import pandas as pd\n",
        "import matplotlib.pyplot as plt\n"
      ],
      "execution_count": 0,
      "outputs": []
    },
    {
      "cell_type": "code",
      "metadata": {
        "id": "-Tf4nQo_fmEF",
        "colab_type": "code",
        "outputId": "71408a6a-4e3d-4508-89b1-92a38ff2b424",
        "colab": {
          "base_uri": "https://localhost:8080/",
          "height": 34
        }
      },
      "source": [
        "from keras.datasets import fashion_mnist"
      ],
      "execution_count": 0,
      "outputs": [
        {
          "output_type": "stream",
          "text": [
            "Using TensorFlow backend.\n"
          ],
          "name": "stderr"
        }
      ]
    },
    {
      "cell_type": "code",
      "metadata": {
        "id": "KNjA1q7Vl91-",
        "colab_type": "code",
        "outputId": "e435d52e-0907-42ee-eb8c-b8ba459e5c4f",
        "colab": {
          "base_uri": "https://localhost:8080/",
          "height": 153
        }
      },
      "source": [
        "(X_train, y_train), (X_test,y_test) = fashion_mnist.load_data()"
      ],
      "execution_count": 0,
      "outputs": [
        {
          "output_type": "stream",
          "text": [
            "Downloading data from http://fashion-mnist.s3-website.eu-central-1.amazonaws.com/train-labels-idx1-ubyte.gz\n",
            "32768/29515 [=================================] - 0s 3us/step\n",
            "Downloading data from http://fashion-mnist.s3-website.eu-central-1.amazonaws.com/train-images-idx3-ubyte.gz\n",
            "26427392/26421880 [==============================] - 2s 0us/step\n",
            "Downloading data from http://fashion-mnist.s3-website.eu-central-1.amazonaws.com/t10k-labels-idx1-ubyte.gz\n",
            "8192/5148 [===============================================] - 0s 0us/step\n",
            "Downloading data from http://fashion-mnist.s3-website.eu-central-1.amazonaws.com/t10k-images-idx3-ubyte.gz\n",
            "4423680/4422102 [==============================] - 1s 0us/step\n"
          ],
          "name": "stdout"
        }
      ]
    },
    {
      "cell_type": "code",
      "metadata": {
        "id": "Ng3oBAJ5l9vl",
        "colab_type": "code",
        "colab": {}
      },
      "source": [
        "X_train, X_test = X_train/255, X_test/255"
      ],
      "execution_count": 0,
      "outputs": []
    },
    {
      "cell_type": "code",
      "metadata": {
        "id": "Cijo1nvcl9ol",
        "colab_type": "code",
        "colab": {}
      },
      "source": [
        "X_train= X_train[..., np.newaxis] "
      ],
      "execution_count": 0,
      "outputs": []
    },
    {
      "cell_type": "code",
      "metadata": {
        "id": "lUXMGeJPmCxs",
        "colab_type": "code",
        "colab": {}
      },
      "source": [
        "X_test = X_test[...,np.newaxis]"
      ],
      "execution_count": 0,
      "outputs": []
    },
    {
      "cell_type": "code",
      "metadata": {
        "id": "9VdwlBGAmEZm",
        "colab_type": "code",
        "colab": {}
      },
      "source": [
        ""
      ],
      "execution_count": 0,
      "outputs": []
    },
    {
      "cell_type": "code",
      "metadata": {
        "id": "tc9igMAufPs3",
        "colab_type": "code",
        "colab": {}
      },
      "source": [
        "model = keras.models.Sequential([\n",
        "                                 keras.layers.Conv2D(6,5, activation = \"tanh\", padding=\"same\", input_shape=[28,28,1]),\n",
        "                                 keras.layers.AveragePooling2D(),\n",
        "                                 keras.layers.Conv2D(16,5,activation=\"tanh\",padding=\"same\"),\n",
        "                                 \n",
        "                                 keras.layers.AveragePooling2D(),\n",
        "                                 keras.layers.Conv2D(120,5,activation=\"tanh\",padding=\"same\"),\n",
        "                                 keras.layers.Flatten(),\n",
        "                                 keras.layers.Dense(84, activation=\"tanh\"),\n",
        "                                 keras.layers.Dropout(0.5),\n",
        "                                 keras.layers.Dense(10, activation=\"softmax\"),\n",
        "])"
      ],
      "execution_count": 0,
      "outputs": []
    },
    {
      "cell_type": "code",
      "metadata": {
        "id": "acka3wB2hxOT",
        "colab_type": "code",
        "colab": {}
      },
      "source": [
        "model.compile(optimizer=keras.optimizers.RMSprop(), loss=keras.losses.sparse_categorical_crossentropy, metrics=['accuracy'])"
      ],
      "execution_count": 0,
      "outputs": []
    },
    {
      "cell_type": "code",
      "metadata": {
        "id": "qfsaOGkTmH6l",
        "colab_type": "code",
        "colab": {}
      },
      "source": [
        "checkpoint_cb= keras.callbacks.ModelCheckpoint(\"my_keras_model.h5\", save_best_only=True)"
      ],
      "execution_count": 0,
      "outputs": []
    },
    {
      "cell_type": "code",
      "metadata": {
        "id": "_zDX7tMYmId9",
        "colab_type": "code",
        "outputId": "cf561d22-3710-499c-de8a-016d77ab7398",
        "colab": {
          "base_uri": "https://localhost:8080/",
          "height": 204
        }
      },
      "source": [
        "history = model.fit(X_train, y_train, validation_split=0.2, epochs=5, callbacks=[checkpoint_cb])"
      ],
      "execution_count": 0,
      "outputs": [
        {
          "output_type": "stream",
          "text": [
            "Train on 48000 samples, validate on 12000 samples\n",
            "Epoch 1/5\n",
            "48000/48000 [==============================] - 71s 1ms/sample - loss: 0.6364 - accuracy: 0.7764 - val_loss: 0.4493 - val_accuracy: 0.8403\n",
            "Epoch 2/5\n",
            "48000/48000 [==============================] - 70s 1ms/sample - loss: 0.5010 - accuracy: 0.8246 - val_loss: 0.4181 - val_accuracy: 0.8500\n",
            "Epoch 3/5\n",
            "48000/48000 [==============================] - 69s 1ms/sample - loss: 0.4728 - accuracy: 0.8347 - val_loss: 0.4130 - val_accuracy: 0.8509\n",
            "Epoch 4/5\n",
            "48000/48000 [==============================] - 70s 1ms/sample - loss: 0.4699 - accuracy: 0.8367 - val_loss: 0.3972 - val_accuracy: 0.8603\n",
            "Epoch 5/5\n",
            "48000/48000 [==============================] - 71s 1ms/sample - loss: 0.4564 - accuracy: 0.8422 - val_loss: 0.4019 - val_accuracy: 0.8553\n"
          ],
          "name": "stdout"
        }
      ]
    },
    {
      "cell_type": "code",
      "metadata": {
        "id": "AnaFzM56oOR4",
        "colab_type": "code",
        "colab": {}
      },
      "source": [
        "model.save('le-net.h5')"
      ],
      "execution_count": 0,
      "outputs": []
    },
    {
      "cell_type": "code",
      "metadata": {
        "id": "Nr1ePjgloT5U",
        "colab_type": "code",
        "colab": {}
      },
      "source": [
        "import os"
      ],
      "execution_count": 0,
      "outputs": []
    },
    {
      "cell_type": "code",
      "metadata": {
        "id": "0iBp5LxWoWux",
        "colab_type": "code",
        "colab": {}
      },
      "source": [
        ""
      ],
      "execution_count": 0,
      "outputs": []
    }
  ]
}