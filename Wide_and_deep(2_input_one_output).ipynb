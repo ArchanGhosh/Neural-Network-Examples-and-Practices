{
  "nbformat": 4,
  "nbformat_minor": 0,
  "metadata": {
    "colab": {
      "name": "Wide and deep(2 input one output).ipynb",
      "provenance": [],
      "include_colab_link": true
    },
    "kernelspec": {
      "name": "python3",
      "display_name": "Python 3"
    }
  },
  "cells": [
    {
      "cell_type": "markdown",
      "metadata": {
        "id": "view-in-github",
        "colab_type": "text"
      },
      "source": [
        "<a href=\"https://colab.research.google.com/github/ArchanGhosh/Neural-Network-Examples-and-Practices/blob/master/Wide_and_deep(2_input_one_output).ipynb\" target=\"_parent\"><img src=\"https://colab.research.google.com/assets/colab-badge.svg\" alt=\"Open In Colab\"/></a>"
      ]
    },
    {
      "cell_type": "code",
      "metadata": {
        "id": "bs8qamafLKKM",
        "colab_type": "code",
        "outputId": "a261a976-2260-441c-ca40-4fc5ea1c6759",
        "colab": {
          "base_uri": "https://localhost:8080/",
          "height": 35
        }
      },
      "source": [
        "%tensorflow_version 2.x"
      ],
      "execution_count": 0,
      "outputs": [
        {
          "output_type": "stream",
          "text": [
            "TensorFlow 2.x selected.\n"
          ],
          "name": "stdout"
        }
      ]
    },
    {
      "cell_type": "code",
      "metadata": {
        "id": "YhlgLHGELLEk",
        "colab_type": "code",
        "colab": {}
      },
      "source": [
        "import tensorflow as tf\n",
        "import tensorflow.keras as keras\n",
        "from sklearn.preprocessing import StandardScaler"
      ],
      "execution_count": 0,
      "outputs": []
    },
    {
      "cell_type": "code",
      "metadata": {
        "id": "t2n5q_4oLMfz",
        "colab_type": "code",
        "outputId": "2b742259-7fe1-4a24-f331-45a24e1252a5",
        "colab": {
          "base_uri": "https://localhost:8080/",
          "height": 35
        }
      },
      "source": [
        "from keras.datasets import boston_housing"
      ],
      "execution_count": 0,
      "outputs": [
        {
          "output_type": "stream",
          "text": [
            "Using TensorFlow backend.\n"
          ],
          "name": "stderr"
        }
      ]
    },
    {
      "cell_type": "code",
      "metadata": {
        "id": "w2JX8w93LNqj",
        "colab_type": "code",
        "colab": {}
      },
      "source": [
        "(X_train, y_train), (X_test, y_test) = boston_housing.load_data()"
      ],
      "execution_count": 0,
      "outputs": []
    },
    {
      "cell_type": "code",
      "metadata": {
        "id": "dsaVptXWRfAY",
        "colab_type": "code",
        "colab": {}
      },
      "source": [
        "scaler=StandardScaler()"
      ],
      "execution_count": 0,
      "outputs": []
    },
    {
      "cell_type": "code",
      "metadata": {
        "id": "FnhSP4nuRe7O",
        "colab_type": "code",
        "colab": {}
      },
      "source": [
        "X_train_scaled = scaler.fit_transform(X_train)"
      ],
      "execution_count": 0,
      "outputs": []
    },
    {
      "cell_type": "code",
      "metadata": {
        "id": "NrlQigwIRe19",
        "colab_type": "code",
        "colab": {}
      },
      "source": [
        "X_test_scaled = scaler.fit_transform(X_test)"
      ],
      "execution_count": 0,
      "outputs": []
    },
    {
      "cell_type": "code",
      "metadata": {
        "id": "B1wap2bYLPVr",
        "colab_type": "code",
        "colab": {}
      },
      "source": [
        "input_a = keras.layers.Input(shape=X_train_scaled[:,:9].shape[1:])"
      ],
      "execution_count": 0,
      "outputs": []
    },
    {
      "cell_type": "code",
      "metadata": {
        "id": "7eKIMmRxNMJj",
        "colab_type": "code",
        "colab": {}
      },
      "source": [
        "input_b = keras.layers.Input(shape=X_train_scaled[:,6:].shape[1:])"
      ],
      "execution_count": 0,
      "outputs": []
    },
    {
      "cell_type": "code",
      "metadata": {
        "id": "xDe8AjonNL-0",
        "colab_type": "code",
        "colab": {}
      },
      "source": [
        "hidden1 = keras.layers.Dense(30, activation=keras.activations.relu)(input_b)"
      ],
      "execution_count": 0,
      "outputs": []
    },
    {
      "cell_type": "code",
      "metadata": {
        "id": "EGL0RKbtNTLj",
        "colab_type": "code",
        "colab": {}
      },
      "source": [
        "hidden2= keras.layers.Dense(30, activation=keras.activations.relu)(hidden1)"
      ],
      "execution_count": 0,
      "outputs": []
    },
    {
      "cell_type": "code",
      "metadata": {
        "id": "MtIYAoFcNTF8",
        "colab_type": "code",
        "colab": {}
      },
      "source": [
        "concat= keras.layers.concatenate([input_a, hidden2], axis=-1)"
      ],
      "execution_count": 0,
      "outputs": []
    },
    {
      "cell_type": "code",
      "metadata": {
        "id": "sxd5NZPlNhhj",
        "colab_type": "code",
        "colab": {}
      },
      "source": [
        "output= keras.layers.Dense(1)(concat)"
      ],
      "execution_count": 0,
      "outputs": []
    },
    {
      "cell_type": "code",
      "metadata": {
        "id": "ZwUdEqiYNl9D",
        "colab_type": "code",
        "colab": {}
      },
      "source": [
        "model = keras.models.Model(inputs=[input_a, input_b], outputs=[output])"
      ],
      "execution_count": 0,
      "outputs": []
    },
    {
      "cell_type": "code",
      "metadata": {
        "id": "4HtvD1Y4Pz7s",
        "colab_type": "code",
        "colab": {}
      },
      "source": [
        "model.compile(loss=['mse'], optimizer='sgd')"
      ],
      "execution_count": 0,
      "outputs": []
    },
    {
      "cell_type": "code",
      "metadata": {
        "id": "WjAexutWPoeL",
        "colab_type": "code",
        "outputId": "db32130f-48f9-4063-99fb-1a6fab54688c",
        "colab": {
          "base_uri": "https://localhost:8080/",
          "height": 399
        }
      },
      "source": [
        "model.summary()"
      ],
      "execution_count": 0,
      "outputs": [
        {
          "output_type": "stream",
          "text": [
            "Model: \"model\"\n",
            "__________________________________________________________________________________________________\n",
            "Layer (type)                    Output Shape         Param #     Connected to                     \n",
            "==================================================================================================\n",
            "input_2 (InputLayer)            [(None, 7)]          0                                            \n",
            "__________________________________________________________________________________________________\n",
            "dense (Dense)                   (None, 30)           240         input_2[0][0]                    \n",
            "__________________________________________________________________________________________________\n",
            "input_1 (InputLayer)            [(None, 9)]          0                                            \n",
            "__________________________________________________________________________________________________\n",
            "dense_1 (Dense)                 (None, 30)           930         dense[0][0]                      \n",
            "__________________________________________________________________________________________________\n",
            "concatenate (Concatenate)       (None, 39)           0           input_1[0][0]                    \n",
            "                                                                 dense_1[0][0]                    \n",
            "__________________________________________________________________________________________________\n",
            "dense_2 (Dense)                 (None, 1)            40          concatenate[0][0]                \n",
            "==================================================================================================\n",
            "Total params: 1,210\n",
            "Trainable params: 1,210\n",
            "Non-trainable params: 0\n",
            "__________________________________________________________________________________________________\n"
          ],
          "name": "stdout"
        }
      ]
    },
    {
      "cell_type": "code",
      "metadata": {
        "id": "JBHm8rnPPrwb",
        "colab_type": "code",
        "outputId": "74e8b5b6-5709-4dcf-d6f5-a49d8292b62f",
        "colab": {
          "base_uri": "https://localhost:8080/",
          "height": 1000
        }
      },
      "source": [
        "history=model.fit([X_train_scaled[:,:9],X_train_scaled[:,6:] ], y_train, validation_split=0.2, epochs=30)"
      ],
      "execution_count": 0,
      "outputs": [
        {
          "output_type": "stream",
          "text": [
            "Train on 323 samples, validate on 81 samples\n",
            "Epoch 1/30\n",
            "323/323 [==============================] - 1s 2ms/sample - loss: 273.8194 - val_loss: 518.1498\n",
            "Epoch 2/30\n",
            "323/323 [==============================] - 0s 87us/sample - loss: 245.2652 - val_loss: 1217.5784\n",
            "Epoch 3/30\n",
            "323/323 [==============================] - 0s 168us/sample - loss: 328.7720 - val_loss: 254.4555\n",
            "Epoch 4/30\n",
            "323/323 [==============================] - 0s 102us/sample - loss: 150.3569 - val_loss: 160.3733\n",
            "Epoch 5/30\n",
            "323/323 [==============================] - 0s 90us/sample - loss: 75.7800 - val_loss: 48.5314\n",
            "Epoch 6/30\n",
            "323/323 [==============================] - 0s 99us/sample - loss: 36.4781 - val_loss: 33.2769\n",
            "Epoch 7/30\n",
            "323/323 [==============================] - 0s 103us/sample - loss: 42.7381 - val_loss: 40.7858\n",
            "Epoch 8/30\n",
            "323/323 [==============================] - 0s 101us/sample - loss: 26.2263 - val_loss: 34.9501\n",
            "Epoch 9/30\n",
            "323/323 [==============================] - 0s 93us/sample - loss: 21.2441 - val_loss: 21.7162\n",
            "Epoch 10/30\n",
            "323/323 [==============================] - 0s 94us/sample - loss: 22.3234 - val_loss: 34.5690\n",
            "Epoch 11/30\n",
            "323/323 [==============================] - 0s 89us/sample - loss: 17.6487 - val_loss: 71.5252\n",
            "Epoch 12/30\n",
            "323/323 [==============================] - 0s 108us/sample - loss: 24.6626 - val_loss: 166.4946\n",
            "Epoch 13/30\n",
            "323/323 [==============================] - 0s 111us/sample - loss: 23.7858 - val_loss: 14.3418\n",
            "Epoch 14/30\n",
            "323/323 [==============================] - 0s 99us/sample - loss: 15.8798 - val_loss: 14.1581\n",
            "Epoch 15/30\n",
            "323/323 [==============================] - 0s 98us/sample - loss: 17.4190 - val_loss: 42.0969\n",
            "Epoch 16/30\n",
            "323/323 [==============================] - 0s 97us/sample - loss: 16.3302 - val_loss: 12.4891\n",
            "Epoch 17/30\n",
            "323/323 [==============================] - 0s 89us/sample - loss: 15.4550 - val_loss: 12.7870\n",
            "Epoch 18/30\n",
            "323/323 [==============================] - 0s 93us/sample - loss: 14.8395 - val_loss: 12.6921\n",
            "Epoch 19/30\n",
            "323/323 [==============================] - 0s 108us/sample - loss: 14.2875 - val_loss: 32.0276\n",
            "Epoch 20/30\n",
            "323/323 [==============================] - 0s 93us/sample - loss: 16.5136 - val_loss: 180.3373\n",
            "Epoch 21/30\n",
            "323/323 [==============================] - 0s 93us/sample - loss: 52.3816 - val_loss: 17.4995\n",
            "Epoch 22/30\n",
            "323/323 [==============================] - 0s 103us/sample - loss: 20.4739 - val_loss: 13.5304\n",
            "Epoch 23/30\n",
            "323/323 [==============================] - 0s 98us/sample - loss: 17.0689 - val_loss: 21.7461\n",
            "Epoch 24/30\n",
            "323/323 [==============================] - 0s 121us/sample - loss: 15.8107 - val_loss: 15.5904\n",
            "Epoch 25/30\n",
            "323/323 [==============================] - 0s 103us/sample - loss: 15.1228 - val_loss: 20.0888\n",
            "Epoch 26/30\n",
            "323/323 [==============================] - 0s 103us/sample - loss: 15.3270 - val_loss: 10.3007\n",
            "Epoch 27/30\n",
            "323/323 [==============================] - 0s 102us/sample - loss: 12.3859 - val_loss: 13.5720\n",
            "Epoch 28/30\n",
            "323/323 [==============================] - 0s 103us/sample - loss: 12.8992 - val_loss: 53.7582\n",
            "Epoch 29/30\n",
            "323/323 [==============================] - 0s 97us/sample - loss: 15.6946 - val_loss: 44.3871\n",
            "Epoch 30/30\n",
            "323/323 [==============================] - 0s 97us/sample - loss: 26.3325 - val_loss: 11.4405\n"
          ],
          "name": "stdout"
        }
      ]
    },
    {
      "cell_type": "code",
      "metadata": {
        "id": "T_bUzC8GR11T",
        "colab_type": "code",
        "colab": {}
      },
      "source": [
        ""
      ],
      "execution_count": 0,
      "outputs": []
    }
  ]
}