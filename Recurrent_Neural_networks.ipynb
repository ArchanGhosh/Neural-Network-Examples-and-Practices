{
  "nbformat": 4,
  "nbformat_minor": 0,
  "metadata": {
    "colab": {
      "name": "Recurrent Neural networks.ipynb",
      "provenance": [],
      "authorship_tag": "ABX9TyM8sWM6+IjN5zcSx3pDWvaJ",
      "include_colab_link": true
    },
    "kernelspec": {
      "name": "python3",
      "display_name": "Python 3"
    }
  },
  "cells": [
    {
      "cell_type": "markdown",
      "metadata": {
        "id": "view-in-github",
        "colab_type": "text"
      },
      "source": [
        "<a href=\"https://colab.research.google.com/github/ArchanGhosh/Neural-Network-Examples-and-Practices/blob/master/Recurrent_Neural_networks.ipynb\" target=\"_parent\"><img src=\"https://colab.research.google.com/assets/colab-badge.svg\" alt=\"Open In Colab\"/></a>"
      ]
    },
    {
      "cell_type": "code",
      "metadata": {
        "id": "ohDPloL63Em8",
        "colab_type": "code",
        "colab": {}
      },
      "source": [
        "%tensorflow_version 2.x"
      ],
      "execution_count": 0,
      "outputs": []
    },
    {
      "cell_type": "code",
      "metadata": {
        "id": "pjFt_mqz3K6n",
        "colab_type": "code",
        "colab": {}
      },
      "source": [
        "import numpy as np\n",
        "import tensorflow as tf\n",
        "import tensorflow.keras as keras"
      ],
      "execution_count": 0,
      "outputs": []
    },
    {
      "cell_type": "code",
      "metadata": {
        "id": "bUHgmC4J3-u4",
        "colab_type": "code",
        "colab": {}
      },
      "source": [
        "def generate_time_series(batch_size, n_steps):\n",
        "  freq1, freq2, offsets1, offsets2 = np.random.rand(4, batch_size, 1)\n",
        "  time = np.linspace(0,1,n_steps)\n",
        "  series = 0.5 * np.sin((time - offsets1) * (freq1 *10 +10)) #wave 1\n",
        "  series += 0.2 * np.sin((time - offsets2) * (freq2 *20 +20)) #wave 2\n",
        "  series += 0.1 * (np.random.rand(batch_size, n_steps) - 0.5) #+ noise\n",
        "  return series[..., np.newaxis].astype(np.float32)"
      ],
      "execution_count": 0,
      "outputs": []
    },
    {
      "cell_type": "code",
      "metadata": {
        "id": "qgITCfOX5LUY",
        "colab_type": "code",
        "colab": {}
      },
      "source": [
        "n_steps=50\n",
        "series = generate_time_series(10000, n_steps+1)\n",
        "X_train, y_train = series[:7000, :n_steps], series[:7000, -1]\n",
        "X_valid, y_valid = series[7000:9000, :n_steps], series[7000:9000, -1]\n",
        "X_test, y_test = series[9000:, :n_steps],series[9000:, -1]"
      ],
      "execution_count": 0,
      "outputs": []
    },
    {
      "cell_type": "code",
      "metadata": {
        "id": "6P_DZXLn6b9X",
        "colab_type": "code",
        "outputId": "eea6f101-f8fa-4095-8595-06b97330545b",
        "colab": {
          "base_uri": "https://localhost:8080/",
          "height": 34
        }
      },
      "source": [
        "y_pred = X_valid[:,-1]\n",
        "np.mean(keras.losses.mean_squared_error(y_valid,y_pred))"
      ],
      "execution_count": 0,
      "outputs": [
        {
          "output_type": "execute_result",
          "data": {
            "text/plain": [
              "0.020365693"
            ]
          },
          "metadata": {
            "tags": []
          },
          "execution_count": 7
        }
      ]
    },
    {
      "cell_type": "code",
      "metadata": {
        "id": "65s_6SH8CAdp",
        "colab_type": "code",
        "colab": {}
      },
      "source": [
        "model = keras.models.Sequential([\n",
        "                                 keras.layers.Flatten(input_shape=[50,1]),\n",
        "                                 keras.layers.Dense(1)\n",
        "])"
      ],
      "execution_count": 0,
      "outputs": []
    },
    {
      "cell_type": "code",
      "metadata": {
        "id": "zIk0wUx6EgQN",
        "colab_type": "code",
        "colab": {}
      },
      "source": [
        "model.compile(loss='mse')"
      ],
      "execution_count": 0,
      "outputs": []
    },
    {
      "cell_type": "code",
      "metadata": {
        "id": "Fw9pDGe2E0pU",
        "colab_type": "code",
        "outputId": "f378cf7c-3426-4f3a-8c66-31d7a32e3ed9",
        "colab": {
          "base_uri": "https://localhost:8080/",
          "height": 714
        }
      },
      "source": [
        "history = model.fit(X_train, y_train, validation_data=[X_valid, y_valid], epochs=20)"
      ],
      "execution_count": 0,
      "outputs": [
        {
          "output_type": "stream",
          "text": [
            "Train on 7000 samples, validate on 2000 samples\n",
            "Epoch 1/20\n",
            "7000/7000 [==============================] - 1s 125us/sample - loss: 0.1179 - val_loss: 0.0194\n",
            "Epoch 2/20\n",
            "7000/7000 [==============================] - 0s 48us/sample - loss: 0.0132 - val_loss: 0.0093\n",
            "Epoch 3/20\n",
            "7000/7000 [==============================] - 0s 49us/sample - loss: 0.0082 - val_loss: 0.0070\n",
            "Epoch 4/20\n",
            "7000/7000 [==============================] - 0s 46us/sample - loss: 0.0063 - val_loss: 0.0057\n",
            "Epoch 5/20\n",
            "7000/7000 [==============================] - 0s 49us/sample - loss: 0.0051 - val_loss: 0.0048\n",
            "Epoch 6/20\n",
            "7000/7000 [==============================] - 0s 53us/sample - loss: 0.0045 - val_loss: 0.0044\n",
            "Epoch 7/20\n",
            "7000/7000 [==============================] - 0s 48us/sample - loss: 0.0041 - val_loss: 0.0041\n",
            "Epoch 8/20\n",
            "7000/7000 [==============================] - 0s 49us/sample - loss: 0.0039 - val_loss: 0.0039\n",
            "Epoch 9/20\n",
            "7000/7000 [==============================] - 0s 50us/sample - loss: 0.0038 - val_loss: 0.0039\n",
            "Epoch 10/20\n",
            "7000/7000 [==============================] - 0s 49us/sample - loss: 0.0037 - val_loss: 0.0037\n",
            "Epoch 11/20\n",
            "7000/7000 [==============================] - 0s 47us/sample - loss: 0.0037 - val_loss: 0.0036\n",
            "Epoch 12/20\n",
            "7000/7000 [==============================] - 0s 51us/sample - loss: 0.0036 - val_loss: 0.0036\n",
            "Epoch 13/20\n",
            "7000/7000 [==============================] - 0s 48us/sample - loss: 0.0036 - val_loss: 0.0035\n",
            "Epoch 14/20\n",
            "7000/7000 [==============================] - 0s 46us/sample - loss: 0.0035 - val_loss: 0.0034\n",
            "Epoch 15/20\n",
            "7000/7000 [==============================] - 0s 49us/sample - loss: 0.0035 - val_loss: 0.0035\n",
            "Epoch 16/20\n",
            "7000/7000 [==============================] - 0s 49us/sample - loss: 0.0034 - val_loss: 0.0034\n",
            "Epoch 17/20\n",
            "7000/7000 [==============================] - 0s 46us/sample - loss: 0.0034 - val_loss: 0.0035\n",
            "Epoch 18/20\n",
            "7000/7000 [==============================] - 0s 47us/sample - loss: 0.0034 - val_loss: 0.0033\n",
            "Epoch 19/20\n",
            "7000/7000 [==============================] - 0s 47us/sample - loss: 0.0033 - val_loss: 0.0034\n",
            "Epoch 20/20\n",
            "7000/7000 [==============================] - 0s 49us/sample - loss: 0.0033 - val_loss: 0.0033\n"
          ],
          "name": "stdout"
        }
      ]
    },
    {
      "cell_type": "code",
      "metadata": {
        "id": "tKHVgOGGFDma",
        "colab_type": "code",
        "colab": {}
      },
      "source": [
        "model1 = keras.models.Sequential([\n",
        "                                  keras.layers.SimpleRNN(1, input_shape=[None,1])\n",
        "])"
      ],
      "execution_count": 0,
      "outputs": []
    },
    {
      "cell_type": "code",
      "metadata": {
        "id": "BD7SLx5IF4gY",
        "colab_type": "code",
        "colab": {}
      },
      "source": [
        "model1.compile(loss='mse')"
      ],
      "execution_count": 0,
      "outputs": []
    },
    {
      "cell_type": "code",
      "metadata": {
        "id": "9novtJatGATf",
        "colab_type": "code",
        "outputId": "6e6a5052-44d9-46b1-a9e3-0c0407b3cd91",
        "colab": {
          "base_uri": "https://localhost:8080/",
          "height": 714
        }
      },
      "source": [
        "history1 = model1.fit(X_train, y_train, validation_data=[X_valid, y_valid], epochs=20)"
      ],
      "execution_count": 0,
      "outputs": [
        {
          "output_type": "stream",
          "text": [
            "Train on 7000 samples, validate on 2000 samples\n",
            "Epoch 1/20\n",
            "7000/7000 [==============================] - 3s 412us/sample - loss: 0.0413 - val_loss: 0.0303\n",
            "Epoch 2/20\n",
            "7000/7000 [==============================] - 2s 302us/sample - loss: 0.0218 - val_loss: 0.0154\n",
            "Epoch 3/20\n",
            "7000/7000 [==============================] - 2s 301us/sample - loss: 0.0129 - val_loss: 0.0118\n",
            "Epoch 4/20\n",
            "7000/7000 [==============================] - 2s 298us/sample - loss: 0.0116 - val_loss: 0.0114\n",
            "Epoch 5/20\n",
            "7000/7000 [==============================] - 2s 292us/sample - loss: 0.0113 - val_loss: 0.0112\n",
            "Epoch 6/20\n",
            "7000/7000 [==============================] - 2s 299us/sample - loss: 0.0111 - val_loss: 0.0112\n",
            "Epoch 7/20\n",
            "7000/7000 [==============================] - 2s 295us/sample - loss: 0.0111 - val_loss: 0.0112\n",
            "Epoch 8/20\n",
            "7000/7000 [==============================] - 2s 294us/sample - loss: 0.0111 - val_loss: 0.0112\n",
            "Epoch 9/20\n",
            "7000/7000 [==============================] - 2s 292us/sample - loss: 0.0111 - val_loss: 0.0111\n",
            "Epoch 10/20\n",
            "7000/7000 [==============================] - 2s 296us/sample - loss: 0.0111 - val_loss: 0.0112\n",
            "Epoch 11/20\n",
            "7000/7000 [==============================] - 2s 298us/sample - loss: 0.0111 - val_loss: 0.0112\n",
            "Epoch 12/20\n",
            "7000/7000 [==============================] - 2s 294us/sample - loss: 0.0111 - val_loss: 0.0112\n",
            "Epoch 13/20\n",
            "7000/7000 [==============================] - 2s 300us/sample - loss: 0.0111 - val_loss: 0.0112\n",
            "Epoch 14/20\n",
            "7000/7000 [==============================] - 2s 302us/sample - loss: 0.0111 - val_loss: 0.0111\n",
            "Epoch 15/20\n",
            "7000/7000 [==============================] - 2s 297us/sample - loss: 0.0111 - val_loss: 0.0112\n",
            "Epoch 16/20\n",
            "7000/7000 [==============================] - 2s 305us/sample - loss: 0.0111 - val_loss: 0.0112\n",
            "Epoch 17/20\n",
            "7000/7000 [==============================] - 2s 301us/sample - loss: 0.0111 - val_loss: 0.0112\n",
            "Epoch 18/20\n",
            "7000/7000 [==============================] - 2s 296us/sample - loss: 0.0111 - val_loss: 0.0112\n",
            "Epoch 19/20\n",
            "7000/7000 [==============================] - 2s 298us/sample - loss: 0.0111 - val_loss: 0.0111\n",
            "Epoch 20/20\n",
            "7000/7000 [==============================] - 2s 302us/sample - loss: 0.0111 - val_loss: 0.0112\n"
          ],
          "name": "stdout"
        }
      ]
    },
    {
      "cell_type": "code",
      "metadata": {
        "id": "q_zKd60EGjKu",
        "colab_type": "code",
        "colab": {}
      },
      "source": [
        "model2 = keras.models.Sequential([\n",
        "                                  keras.layers.SimpleRNN(20, return_sequences=True, input_shape=[None,1]),\n",
        "                                  keras.layers.SimpleRNN(20, return_sequences=True),\n",
        "                                  keras.layers.SimpleRNN(1)\n",
        "])"
      ],
      "execution_count": 0,
      "outputs": []
    },
    {
      "cell_type": "code",
      "metadata": {
        "id": "GSBnJbTHIbjs",
        "colab_type": "code",
        "colab": {}
      },
      "source": [
        "model2.compile(loss='mse')"
      ],
      "execution_count": 0,
      "outputs": []
    },
    {
      "cell_type": "code",
      "metadata": {
        "id": "xlY0iovfIVT0",
        "colab_type": "code",
        "outputId": "b5bbd06c-245a-4143-cb15-daa16ce25b92",
        "colab": {
          "base_uri": "https://localhost:8080/",
          "height": 714
        }
      },
      "source": [
        "history2 = model2.fit(X_train, y_train, validation_data=[X_valid, y_valid], epochs=20)"
      ],
      "execution_count": 0,
      "outputs": [
        {
          "output_type": "stream",
          "text": [
            "Train on 7000 samples, validate on 2000 samples\n",
            "Epoch 1/20\n",
            "7000/7000 [==============================] - 9s 1ms/sample - loss: 0.0102 - val_loss: 0.0048\n",
            "Epoch 2/20\n",
            "7000/7000 [==============================] - 7s 946us/sample - loss: 0.0040 - val_loss: 0.0039\n",
            "Epoch 3/20\n",
            "7000/7000 [==============================] - 7s 957us/sample - loss: 0.0035 - val_loss: 0.0036\n",
            "Epoch 4/20\n",
            "7000/7000 [==============================] - 7s 958us/sample - loss: 0.0033 - val_loss: 0.0038\n",
            "Epoch 5/20\n",
            "7000/7000 [==============================] - 7s 958us/sample - loss: 0.0032 - val_loss: 0.0030\n",
            "Epoch 6/20\n",
            "7000/7000 [==============================] - 7s 958us/sample - loss: 0.0031 - val_loss: 0.0036\n",
            "Epoch 7/20\n",
            "7000/7000 [==============================] - 7s 950us/sample - loss: 0.0031 - val_loss: 0.0028\n",
            "Epoch 8/20\n",
            "7000/7000 [==============================] - 7s 963us/sample - loss: 0.0030 - val_loss: 0.0028\n",
            "Epoch 9/20\n",
            "7000/7000 [==============================] - 7s 946us/sample - loss: 0.0030 - val_loss: 0.0029\n",
            "Epoch 10/20\n",
            "7000/7000 [==============================] - 7s 944us/sample - loss: 0.0029 - val_loss: 0.0033\n",
            "Epoch 11/20\n",
            "7000/7000 [==============================] - 7s 955us/sample - loss: 0.0029 - val_loss: 0.0032\n",
            "Epoch 12/20\n",
            "7000/7000 [==============================] - 7s 956us/sample - loss: 0.0029 - val_loss: 0.0031\n",
            "Epoch 13/20\n",
            "7000/7000 [==============================] - 7s 966us/sample - loss: 0.0029 - val_loss: 0.0027\n",
            "Epoch 14/20\n",
            "7000/7000 [==============================] - 7s 973us/sample - loss: 0.0029 - val_loss: 0.0028\n",
            "Epoch 15/20\n",
            "7000/7000 [==============================] - 7s 962us/sample - loss: 0.0029 - val_loss: 0.0027\n",
            "Epoch 16/20\n",
            "7000/7000 [==============================] - 7s 961us/sample - loss: 0.0028 - val_loss: 0.0036\n",
            "Epoch 17/20\n",
            "7000/7000 [==============================] - 7s 965us/sample - loss: 0.0028 - val_loss: 0.0029\n",
            "Epoch 18/20\n",
            "7000/7000 [==============================] - 7s 959us/sample - loss: 0.0028 - val_loss: 0.0025\n",
            "Epoch 19/20\n",
            "7000/7000 [==============================] - 7s 966us/sample - loss: 0.0028 - val_loss: 0.0025\n",
            "Epoch 20/20\n",
            "7000/7000 [==============================] - 7s 972us/sample - loss: 0.0028 - val_loss: 0.0030\n"
          ],
          "name": "stdout"
        }
      ]
    },
    {
      "cell_type": "code",
      "metadata": {
        "id": "oxT_ogw4IXCn",
        "colab_type": "code",
        "colab": {}
      },
      "source": [
        "model3=keras.models.Sequential([\n",
        "                                keras.layers.SimpleRNN(20, return_sequences=True, input_shape=[None,1]),\n",
        "                                keras.layers.SimpleRNN(20),\n",
        "                                keras.layers.Dense(1)\n",
        "])"
      ],
      "execution_count": 0,
      "outputs": []
    },
    {
      "cell_type": "code",
      "metadata": {
        "id": "6VoAJW04RG22",
        "colab_type": "code",
        "colab": {}
      },
      "source": [
        "model3.compile(loss='mse')"
      ],
      "execution_count": 0,
      "outputs": []
    },
    {
      "cell_type": "code",
      "metadata": {
        "id": "AeBi6hVvRT_g",
        "colab_type": "code",
        "outputId": "1b6655b7-0041-4128-9667-e30b1407b64a",
        "colab": {
          "base_uri": "https://localhost:8080/",
          "height": 714
        }
      },
      "source": [
        "history3 = model3.fit(X_train, y_train, validation_data=[X_valid, y_valid], epochs=20)"
      ],
      "execution_count": 0,
      "outputs": [
        {
          "output_type": "stream",
          "text": [
            "Train on 7000 samples, validate on 2000 samples\n",
            "Epoch 1/20\n",
            "7000/7000 [==============================] - 6s 819us/sample - loss: 0.0147 - val_loss: 0.0051\n",
            "Epoch 2/20\n",
            "7000/7000 [==============================] - 4s 641us/sample - loss: 0.0038 - val_loss: 0.0037\n",
            "Epoch 3/20\n",
            "7000/7000 [==============================] - 5s 647us/sample - loss: 0.0034 - val_loss: 0.0037\n",
            "Epoch 4/20\n",
            "7000/7000 [==============================] - 5s 646us/sample - loss: 0.0033 - val_loss: 0.0034\n",
            "Epoch 5/20\n",
            "7000/7000 [==============================] - 4s 639us/sample - loss: 0.0032 - val_loss: 0.0031\n",
            "Epoch 6/20\n",
            "7000/7000 [==============================] - 5s 649us/sample - loss: 0.0032 - val_loss: 0.0033\n",
            "Epoch 7/20\n",
            "7000/7000 [==============================] - 4s 640us/sample - loss: 0.0031 - val_loss: 0.0029\n",
            "Epoch 8/20\n",
            "7000/7000 [==============================] - 4s 642us/sample - loss: 0.0031 - val_loss: 0.0033\n",
            "Epoch 9/20\n",
            "7000/7000 [==============================] - 4s 623us/sample - loss: 0.0030 - val_loss: 0.0028\n",
            "Epoch 10/20\n",
            "7000/7000 [==============================] - 4s 628us/sample - loss: 0.0030 - val_loss: 0.0027\n",
            "Epoch 11/20\n",
            "7000/7000 [==============================] - 4s 625us/sample - loss: 0.0030 - val_loss: 0.0033\n",
            "Epoch 12/20\n",
            "7000/7000 [==============================] - 4s 628us/sample - loss: 0.0030 - val_loss: 0.0033\n",
            "Epoch 13/20\n",
            "7000/7000 [==============================] - 4s 630us/sample - loss: 0.0029 - val_loss: 0.0034\n",
            "Epoch 14/20\n",
            "7000/7000 [==============================] - 4s 627us/sample - loss: 0.0029 - val_loss: 0.0038\n",
            "Epoch 15/20\n",
            "7000/7000 [==============================] - 4s 624us/sample - loss: 0.0029 - val_loss: 0.0031\n",
            "Epoch 16/20\n",
            "7000/7000 [==============================] - 4s 629us/sample - loss: 0.0029 - val_loss: 0.0034\n",
            "Epoch 17/20\n",
            "7000/7000 [==============================] - 4s 625us/sample - loss: 0.0029 - val_loss: 0.0027\n",
            "Epoch 18/20\n",
            "7000/7000 [==============================] - 4s 623us/sample - loss: 0.0028 - val_loss: 0.0028\n",
            "Epoch 19/20\n",
            "7000/7000 [==============================] - 4s 627us/sample - loss: 0.0028 - val_loss: 0.0028\n",
            "Epoch 20/20\n",
            "7000/7000 [==============================] - 5s 643us/sample - loss: 0.0028 - val_loss: 0.0028\n"
          ],
          "name": "stdout"
        }
      ]
    },
    {
      "cell_type": "code",
      "metadata": {
        "id": "rOtGG1i6RY-A",
        "colab_type": "code",
        "colab": {}
      },
      "source": [
        "series = generate_time_series(1, n_steps+10)\n",
        "X_new, Y_new = series[:, :n_steps], series[:, n_steps:]\n",
        "X= X_new\n",
        "for step_ahead in range(10):\n",
        "  y_pred_one = model.predict(X[:, step_ahead:])[:, np.newaxis, :]\n",
        "  X= np.concatenate([X,y_pred_one], axis=1)\n",
        "Y_pred = X[:, n_steps:]\n"
      ],
      "execution_count": 0,
      "outputs": []
    },
    {
      "cell_type": "code",
      "metadata": {
        "id": "1YzSVK8nVDxp",
        "colab_type": "code",
        "outputId": "6e8de486-13d2-4774-86db-044d69fe877b",
        "colab": {
          "base_uri": "https://localhost:8080/",
          "height": 187
        }
      },
      "source": [
        "Y_pred"
      ],
      "execution_count": 0,
      "outputs": [
        {
          "output_type": "execute_result",
          "data": {
            "text/plain": [
              "array([[[-0.5388515 ],\n",
              "        [-0.413193  ],\n",
              "        [-0.29570302],\n",
              "        [-0.19520764],\n",
              "        [-0.06812873],\n",
              "        [ 0.00876847],\n",
              "        [ 0.09983052],\n",
              "        [ 0.1820052 ],\n",
              "        [ 0.23770967],\n",
              "        [ 0.27488506]]], dtype=float32)"
            ]
          },
          "metadata": {
            "tags": []
          },
          "execution_count": 28
        }
      ]
    },
    {
      "cell_type": "code",
      "metadata": {
        "id": "SZRmHbfoWVlP",
        "colab_type": "code",
        "colab": {}
      },
      "source": [
        "series = generate_time_series(10000, n_steps+10)\n",
        "X_train, Y_train = series[:7000, :n_steps], series[:7000, -10:,0]\n",
        "X_valid, Y_valid = series[7000:9000, :n_steps], series[7000:9000, -10:,0]\n",
        "X_test, Y_test = series[9000:, :n_steps], series[9000:,-10:,0]"
      ],
      "execution_count": 0,
      "outputs": []
    },
    {
      "cell_type": "code",
      "metadata": {
        "id": "xHytVIFfYQ2m",
        "colab_type": "code",
        "colab": {}
      },
      "source": [
        "model4=keras.models.Sequential([\n",
        "                                keras.layers.SimpleRNN(20, return_sequences=True, input_shape=[None,1]),\n",
        "                                keras.layers.SimpleRNN(20),\n",
        "                                keras.layers.Dense(10)\n",
        "])"
      ],
      "execution_count": 0,
      "outputs": []
    },
    {
      "cell_type": "code",
      "metadata": {
        "id": "C2TjZNp8ZEN2",
        "colab_type": "code",
        "colab": {}
      },
      "source": [
        "model4.compile(loss='mse')"
      ],
      "execution_count": 0,
      "outputs": []
    },
    {
      "cell_type": "code",
      "metadata": {
        "id": "Ti1hf84xZHfn",
        "colab_type": "code",
        "outputId": "62c6e823-5602-4864-ea2a-3064c0892fb0",
        "colab": {
          "base_uri": "https://localhost:8080/",
          "height": 714
        }
      },
      "source": [
        "history4 = model4.fit(X_train, Y_train, validation_data=[X_valid, Y_valid], epochs=20)"
      ],
      "execution_count": 0,
      "outputs": [
        {
          "output_type": "stream",
          "text": [
            "Train on 7000 samples, validate on 2000 samples\n",
            "Epoch 1/20\n",
            "7000/7000 [==============================] - 6s 914us/sample - loss: 0.0592 - val_loss: 0.0276\n",
            "Epoch 2/20\n",
            "7000/7000 [==============================] - 5s 688us/sample - loss: 0.0235 - val_loss: 0.0186\n",
            "Epoch 3/20\n",
            "7000/7000 [==============================] - 5s 686us/sample - loss: 0.0191 - val_loss: 0.0169\n",
            "Epoch 4/20\n",
            "7000/7000 [==============================] - 5s 692us/sample - loss: 0.0175 - val_loss: 0.0208\n",
            "Epoch 5/20\n",
            "7000/7000 [==============================] - 5s 682us/sample - loss: 0.0168 - val_loss: 0.0164\n",
            "Epoch 6/20\n",
            "7000/7000 [==============================] - 5s 674us/sample - loss: 0.0160 - val_loss: 0.0176\n",
            "Epoch 7/20\n",
            "7000/7000 [==============================] - 5s 670us/sample - loss: 0.0154 - val_loss: 0.0133\n",
            "Epoch 8/20\n",
            "7000/7000 [==============================] - 5s 675us/sample - loss: 0.0148 - val_loss: 0.0137\n",
            "Epoch 9/20\n",
            "7000/7000 [==============================] - 5s 677us/sample - loss: 0.0147 - val_loss: 0.0145\n",
            "Epoch 10/20\n",
            "7000/7000 [==============================] - 5s 676us/sample - loss: 0.0142 - val_loss: 0.0121\n",
            "Epoch 11/20\n",
            "7000/7000 [==============================] - 5s 675us/sample - loss: 0.0139 - val_loss: 0.0130\n",
            "Epoch 12/20\n",
            "7000/7000 [==============================] - 5s 661us/sample - loss: 0.0137 - val_loss: 0.0123\n",
            "Epoch 13/20\n",
            "7000/7000 [==============================] - 5s 676us/sample - loss: 0.0133 - val_loss: 0.0125\n",
            "Epoch 14/20\n",
            "7000/7000 [==============================] - 5s 674us/sample - loss: 0.0129 - val_loss: 0.0241\n",
            "Epoch 15/20\n",
            "7000/7000 [==============================] - 5s 675us/sample - loss: 0.0128 - val_loss: 0.0142\n",
            "Epoch 16/20\n",
            "7000/7000 [==============================] - 5s 679us/sample - loss: 0.0127 - val_loss: 0.0107\n",
            "Epoch 17/20\n",
            "7000/7000 [==============================] - 5s 679us/sample - loss: 0.0125 - val_loss: 0.0111\n",
            "Epoch 18/20\n",
            "7000/7000 [==============================] - 5s 676us/sample - loss: 0.0120 - val_loss: 0.0124\n",
            "Epoch 19/20\n",
            "7000/7000 [==============================] - 5s 666us/sample - loss: 0.0120 - val_loss: 0.0097\n",
            "Epoch 20/20\n",
            "7000/7000 [==============================] - 5s 669us/sample - loss: 0.0120 - val_loss: 0.0119\n"
          ],
          "name": "stdout"
        }
      ]
    },
    {
      "cell_type": "code",
      "metadata": {
        "id": "R3ui9qIZZ8eb",
        "colab_type": "code",
        "colab": {}
      },
      "source": [
        ""
      ],
      "execution_count": 0,
      "outputs": []
    }
  ]
}