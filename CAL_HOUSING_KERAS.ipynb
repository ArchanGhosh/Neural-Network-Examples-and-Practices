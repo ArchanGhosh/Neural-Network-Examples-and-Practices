{
  "nbformat": 4,
  "nbformat_minor": 0,
  "metadata": {
    "colab": {
      "name": "CAL_HOUSING_KERAS.ipynb",
      "provenance": [],
      "include_colab_link": true
    },
    "kernelspec": {
      "name": "python3",
      "display_name": "Python 3"
    }
  },
  "cells": [
    {
      "cell_type": "markdown",
      "metadata": {
        "id": "view-in-github",
        "colab_type": "text"
      },
      "source": [
        "<a href=\"https://colab.research.google.com/github/ArchanGhosh/Neural-Network-Examples-and-Practices/blob/master/CAL_HOUSING_KERAS.ipynb\" target=\"_parent\"><img src=\"https://colab.research.google.com/assets/colab-badge.svg\" alt=\"Open In Colab\"/></a>"
      ]
    },
    {
      "cell_type": "code",
      "metadata": {
        "id": "T0JPetyCmYme",
        "colab_type": "code",
        "outputId": "78227e1f-5eff-4c88-ad8c-e5e731894846",
        "colab": {
          "base_uri": "https://localhost:8080/",
          "height": 35
        }
      },
      "source": [
        "%tensorflow_version 2.x"
      ],
      "execution_count": 0,
      "outputs": [
        {
          "output_type": "stream",
          "text": [
            "TensorFlow 2.x selected.\n"
          ],
          "name": "stdout"
        }
      ]
    },
    {
      "cell_type": "code",
      "metadata": {
        "id": "cn7vg6uhmhAQ",
        "colab_type": "code",
        "colab": {}
      },
      "source": [
        "import numpy as np\n",
        "import tensorflow as tf\n",
        "import pandas as pd\n",
        "import tensorflow.keras as keras \n",
        "from sklearn.datasets import  fetch_california_housing\n",
        "from sklearn.preprocessing import StandardScaler\n"
      ],
      "execution_count": 0,
      "outputs": []
    },
    {
      "cell_type": "code",
      "metadata": {
        "id": "zb01wC1ynU7J",
        "colab_type": "code",
        "outputId": "48f45ada-90ab-4c19-c1ab-c0e30e598a64",
        "colab": {
          "base_uri": "https://localhost:8080/",
          "height": 35
        }
      },
      "source": [
        "housing = fetch_california_housing()"
      ],
      "execution_count": 0,
      "outputs": [
        {
          "output_type": "stream",
          "text": [
            "Downloading Cal. housing from https://ndownloader.figshare.com/files/5976036 to /root/scikit_learn_data\n"
          ],
          "name": "stderr"
        }
      ]
    },
    {
      "cell_type": "code",
      "metadata": {
        "id": "Is7SQOkWnbDw",
        "colab_type": "code",
        "outputId": "063b0423-6db9-4b06-92bf-c601ad0eb701",
        "colab": {
          "base_uri": "https://localhost:8080/",
          "height": 35
        }
      },
      "source": [
        "type(housing)"
      ],
      "execution_count": 0,
      "outputs": [
        {
          "output_type": "execute_result",
          "data": {
            "text/plain": [
              "sklearn.utils.Bunch"
            ]
          },
          "metadata": {
            "tags": []
          },
          "execution_count": 4
        }
      ]
    },
    {
      "cell_type": "code",
      "metadata": {
        "id": "KlOrAEYXnt85",
        "colab_type": "code",
        "outputId": "55aa7431-b9a6-4c80-a21b-c27032d86e55",
        "colab": {
          "base_uri": "https://localhost:8080/",
          "height": 163
        }
      },
      "source": [
        "housing.feature_names"
      ],
      "execution_count": 0,
      "outputs": [
        {
          "output_type": "execute_result",
          "data": {
            "text/plain": [
              "['MedInc',\n",
              " 'HouseAge',\n",
              " 'AveRooms',\n",
              " 'AveBedrms',\n",
              " 'Population',\n",
              " 'AveOccup',\n",
              " 'Latitude',\n",
              " 'Longitude']"
            ]
          },
          "metadata": {
            "tags": []
          },
          "execution_count": 5
        }
      ]
    },
    {
      "cell_type": "code",
      "metadata": {
        "id": "7tYp3VGGn8ZZ",
        "colab_type": "code",
        "outputId": "ef84176a-b674-4c7b-fcf9-702edbe79310",
        "colab": {
          "base_uri": "https://localhost:8080/",
          "height": 35
        }
      },
      "source": [
        "housing.target[:5]"
      ],
      "execution_count": 0,
      "outputs": [
        {
          "output_type": "execute_result",
          "data": {
            "text/plain": [
              "array([4.526, 3.585, 3.521, 3.413, 3.422])"
            ]
          },
          "metadata": {
            "tags": []
          },
          "execution_count": 6
        }
      ]
    },
    {
      "cell_type": "code",
      "metadata": {
        "id": "5jmunBv7oDi6",
        "colab_type": "code",
        "colab": {}
      },
      "source": [
        "housing_df = pd.DataFrame(np.c_[housing.data, housing.target.reshape(-1,1)], columns=housing.feature_names + ['median_housing_price'] )"
      ],
      "execution_count": 0,
      "outputs": []
    },
    {
      "cell_type": "code",
      "metadata": {
        "id": "QB08TcYaptfk",
        "colab_type": "code",
        "outputId": "b7b9dc8c-c894-4ecc-c82f-b025fcbe1ff9",
        "colab": {
          "base_uri": "https://localhost:8080/",
          "height": 198
        }
      },
      "source": [
        "housing_df.head(5)"
      ],
      "execution_count": 0,
      "outputs": [
        {
          "output_type": "execute_result",
          "data": {
            "text/html": [
              "<div>\n",
              "<style scoped>\n",
              "    .dataframe tbody tr th:only-of-type {\n",
              "        vertical-align: middle;\n",
              "    }\n",
              "\n",
              "    .dataframe tbody tr th {\n",
              "        vertical-align: top;\n",
              "    }\n",
              "\n",
              "    .dataframe thead th {\n",
              "        text-align: right;\n",
              "    }\n",
              "</style>\n",
              "<table border=\"1\" class=\"dataframe\">\n",
              "  <thead>\n",
              "    <tr style=\"text-align: right;\">\n",
              "      <th></th>\n",
              "      <th>MedInc</th>\n",
              "      <th>HouseAge</th>\n",
              "      <th>AveRooms</th>\n",
              "      <th>AveBedrms</th>\n",
              "      <th>Population</th>\n",
              "      <th>AveOccup</th>\n",
              "      <th>Latitude</th>\n",
              "      <th>Longitude</th>\n",
              "      <th>median_housing_price</th>\n",
              "    </tr>\n",
              "  </thead>\n",
              "  <tbody>\n",
              "    <tr>\n",
              "      <th>0</th>\n",
              "      <td>8.3252</td>\n",
              "      <td>41.0</td>\n",
              "      <td>6.984127</td>\n",
              "      <td>1.023810</td>\n",
              "      <td>322.0</td>\n",
              "      <td>2.555556</td>\n",
              "      <td>37.88</td>\n",
              "      <td>-122.23</td>\n",
              "      <td>4.526</td>\n",
              "    </tr>\n",
              "    <tr>\n",
              "      <th>1</th>\n",
              "      <td>8.3014</td>\n",
              "      <td>21.0</td>\n",
              "      <td>6.238137</td>\n",
              "      <td>0.971880</td>\n",
              "      <td>2401.0</td>\n",
              "      <td>2.109842</td>\n",
              "      <td>37.86</td>\n",
              "      <td>-122.22</td>\n",
              "      <td>3.585</td>\n",
              "    </tr>\n",
              "    <tr>\n",
              "      <th>2</th>\n",
              "      <td>7.2574</td>\n",
              "      <td>52.0</td>\n",
              "      <td>8.288136</td>\n",
              "      <td>1.073446</td>\n",
              "      <td>496.0</td>\n",
              "      <td>2.802260</td>\n",
              "      <td>37.85</td>\n",
              "      <td>-122.24</td>\n",
              "      <td>3.521</td>\n",
              "    </tr>\n",
              "    <tr>\n",
              "      <th>3</th>\n",
              "      <td>5.6431</td>\n",
              "      <td>52.0</td>\n",
              "      <td>5.817352</td>\n",
              "      <td>1.073059</td>\n",
              "      <td>558.0</td>\n",
              "      <td>2.547945</td>\n",
              "      <td>37.85</td>\n",
              "      <td>-122.25</td>\n",
              "      <td>3.413</td>\n",
              "    </tr>\n",
              "    <tr>\n",
              "      <th>4</th>\n",
              "      <td>3.8462</td>\n",
              "      <td>52.0</td>\n",
              "      <td>6.281853</td>\n",
              "      <td>1.081081</td>\n",
              "      <td>565.0</td>\n",
              "      <td>2.181467</td>\n",
              "      <td>37.85</td>\n",
              "      <td>-122.25</td>\n",
              "      <td>3.422</td>\n",
              "    </tr>\n",
              "  </tbody>\n",
              "</table>\n",
              "</div>"
            ],
            "text/plain": [
              "   MedInc  HouseAge  AveRooms  ...  Latitude  Longitude  median_housing_price\n",
              "0  8.3252      41.0  6.984127  ...     37.88    -122.23                 4.526\n",
              "1  8.3014      21.0  6.238137  ...     37.86    -122.22                 3.585\n",
              "2  7.2574      52.0  8.288136  ...     37.85    -122.24                 3.521\n",
              "3  5.6431      52.0  5.817352  ...     37.85    -122.25                 3.413\n",
              "4  3.8462      52.0  6.281853  ...     37.85    -122.25                 3.422\n",
              "\n",
              "[5 rows x 9 columns]"
            ]
          },
          "metadata": {
            "tags": []
          },
          "execution_count": 8
        }
      ]
    },
    {
      "cell_type": "code",
      "metadata": {
        "id": "yfSUqed4rJ4C",
        "colab_type": "code",
        "colab": {}
      },
      "source": [
        "import matplotlib.pyplot as plt\n"
      ],
      "execution_count": 0,
      "outputs": []
    },
    {
      "cell_type": "code",
      "metadata": {
        "id": "qO0mjLF_p5Th",
        "colab_type": "code",
        "outputId": "8a72af9a-c006-4d5c-80cc-10b2365ddc47",
        "colab": {
          "base_uri": "https://localhost:8080/",
          "height": 789
        }
      },
      "source": [
        "housing_df.hist(bins=50, figsize=[15,10])"
      ],
      "execution_count": 0,
      "outputs": [
        {
          "output_type": "execute_result",
          "data": {
            "text/plain": [
              "array([[<matplotlib.axes._subplots.AxesSubplot object at 0x7f70ae9c3160>,\n",
              "        <matplotlib.axes._subplots.AxesSubplot object at 0x7f70ae92fe10>,\n",
              "        <matplotlib.axes._subplots.AxesSubplot object at 0x7f70af0dff60>],\n",
              "       [<matplotlib.axes._subplots.AxesSubplot object at 0x7f70af09a0f0>,\n",
              "        <matplotlib.axes._subplots.AxesSubplot object at 0x7f70af049240>,\n",
              "        <matplotlib.axes._subplots.AxesSubplot object at 0x7f70aefff390>],\n",
              "       [<matplotlib.axes._subplots.AxesSubplot object at 0x7f70af0344e0>,\n",
              "        <matplotlib.axes._subplots.AxesSubplot object at 0x7f70aefe7668>,\n",
              "        <matplotlib.axes._subplots.AxesSubplot object at 0x7f70aefe76a0>]],\n",
              "      dtype=object)"
            ]
          },
          "metadata": {
            "tags": []
          },
          "execution_count": 10
        },
        {
          "output_type": "display_data",
          "data": {
            "image/png": "[encoded data removed]",
            "text/plain": [
              "<Figure size 1080x720 with 9 Axes>"
            ]
          },
          "metadata": {
            "tags": []
          }
        }
      ]
    },
    {
      "cell_type": "code",
      "metadata": {
        "id": "VkLJmXgIrViy",
        "colab_type": "code",
        "outputId": "40ca9f5d-95e0-454a-f5e1-2095012e6140",
        "colab": {
          "base_uri": "https://localhost:8080/",
          "height": 235
        }
      },
      "source": [
        "housing_df['MedInc']"
      ],
      "execution_count": 0,
      "outputs": [
        {
          "output_type": "execute_result",
          "data": {
            "text/plain": [
              "0        8.3252\n",
              "1        8.3014\n",
              "2        7.2574\n",
              "3        5.6431\n",
              "4        3.8462\n",
              "          ...  \n",
              "20635    1.5603\n",
              "20636    2.5568\n",
              "20637    1.7000\n",
              "20638    1.8672\n",
              "20639    2.3886\n",
              "Name: MedInc, Length: 20640, dtype: float64"
            ]
          },
          "metadata": {
            "tags": []
          },
          "execution_count": 11
        }
      ]
    },
    {
      "cell_type": "code",
      "metadata": {
        "id": "1VWGQke_snRR",
        "colab_type": "code",
        "colab": {}
      },
      "source": [
        "corr = housing_df.corr()"
      ],
      "execution_count": 0,
      "outputs": []
    },
    {
      "cell_type": "code",
      "metadata": {
        "id": "vXrCsdcXyBFS",
        "colab_type": "code",
        "outputId": "9682aad7-5cfa-4413-f25d-1528d14cd95a",
        "colab": {
          "base_uri": "https://localhost:8080/",
          "height": 318
        }
      },
      "source": [
        "corr"
      ],
      "execution_count": 0,
      "outputs": [
        {
          "output_type": "execute_result",
          "data": {
            "text/html": [
              "<div>\n",
              "<style scoped>\n",
              "    .dataframe tbody tr th:only-of-type {\n",
              "        vertical-align: middle;\n",
              "    }\n",
              "\n",
              "    .dataframe tbody tr th {\n",
              "        vertical-align: top;\n",
              "    }\n",
              "\n",
              "    .dataframe thead th {\n",
              "        text-align: right;\n",
              "    }\n",
              "</style>\n",
              "<table border=\"1\" class=\"dataframe\">\n",
              "  <thead>\n",
              "    <tr style=\"text-align: right;\">\n",
              "      <th></th>\n",
              "      <th>MedInc</th>\n",
              "      <th>HouseAge</th>\n",
              "      <th>AveRooms</th>\n",
              "      <th>AveBedrms</th>\n",
              "      <th>Population</th>\n",
              "      <th>AveOccup</th>\n",
              "      <th>Latitude</th>\n",
              "      <th>Longitude</th>\n",
              "      <th>median_housing_price</th>\n",
              "    </tr>\n",
              "  </thead>\n",
              "  <tbody>\n",
              "    <tr>\n",
              "      <th>MedInc</th>\n",
              "      <td>1.000000</td>\n",
              "      <td>-0.119034</td>\n",
              "      <td>0.326895</td>\n",
              "      <td>-0.062040</td>\n",
              "      <td>0.004834</td>\n",
              "      <td>0.018766</td>\n",
              "      <td>-0.079809</td>\n",
              "      <td>-0.015176</td>\n",
              "      <td>0.688075</td>\n",
              "    </tr>\n",
              "    <tr>\n",
              "      <th>HouseAge</th>\n",
              "      <td>-0.119034</td>\n",
              "      <td>1.000000</td>\n",
              "      <td>-0.153277</td>\n",
              "      <td>-0.077747</td>\n",
              "      <td>-0.296244</td>\n",
              "      <td>0.013191</td>\n",
              "      <td>0.011173</td>\n",
              "      <td>-0.108197</td>\n",
              "      <td>0.105623</td>\n",
              "    </tr>\n",
              "    <tr>\n",
              "      <th>AveRooms</th>\n",
              "      <td>0.326895</td>\n",
              "      <td>-0.153277</td>\n",
              "      <td>1.000000</td>\n",
              "      <td>0.847621</td>\n",
              "      <td>-0.072213</td>\n",
              "      <td>-0.004852</td>\n",
              "      <td>0.106389</td>\n",
              "      <td>-0.027540</td>\n",
              "      <td>0.151948</td>\n",
              "    </tr>\n",
              "    <tr>\n",
              "      <th>AveBedrms</th>\n",
              "      <td>-0.062040</td>\n",
              "      <td>-0.077747</td>\n",
              "      <td>0.847621</td>\n",
              "      <td>1.000000</td>\n",
              "      <td>-0.066197</td>\n",
              "      <td>-0.006181</td>\n",
              "      <td>0.069721</td>\n",
              "      <td>0.013344</td>\n",
              "      <td>-0.046701</td>\n",
              "    </tr>\n",
              "    <tr>\n",
              "      <th>Population</th>\n",
              "      <td>0.004834</td>\n",
              "      <td>-0.296244</td>\n",
              "      <td>-0.072213</td>\n",
              "      <td>-0.066197</td>\n",
              "      <td>1.000000</td>\n",
              "      <td>0.069863</td>\n",
              "      <td>-0.108785</td>\n",
              "      <td>0.099773</td>\n",
              "      <td>-0.024650</td>\n",
              "    </tr>\n",
              "    <tr>\n",
              "      <th>AveOccup</th>\n",
              "      <td>0.018766</td>\n",
              "      <td>0.013191</td>\n",
              "      <td>-0.004852</td>\n",
              "      <td>-0.006181</td>\n",
              "      <td>0.069863</td>\n",
              "      <td>1.000000</td>\n",
              "      <td>0.002366</td>\n",
              "      <td>0.002476</td>\n",
              "      <td>-0.023737</td>\n",
              "    </tr>\n",
              "    <tr>\n",
              "      <th>Latitude</th>\n",
              "      <td>-0.079809</td>\n",
              "      <td>0.011173</td>\n",
              "      <td>0.106389</td>\n",
              "      <td>0.069721</td>\n",
              "      <td>-0.108785</td>\n",
              "      <td>0.002366</td>\n",
              "      <td>1.000000</td>\n",
              "      <td>-0.924664</td>\n",
              "      <td>-0.144160</td>\n",
              "    </tr>\n",
              "    <tr>\n",
              "      <th>Longitude</th>\n",
              "      <td>-0.015176</td>\n",
              "      <td>-0.108197</td>\n",
              "      <td>-0.027540</td>\n",
              "      <td>0.013344</td>\n",
              "      <td>0.099773</td>\n",
              "      <td>0.002476</td>\n",
              "      <td>-0.924664</td>\n",
              "      <td>1.000000</td>\n",
              "      <td>-0.045967</td>\n",
              "    </tr>\n",
              "    <tr>\n",
              "      <th>median_housing_price</th>\n",
              "      <td>0.688075</td>\n",
              "      <td>0.105623</td>\n",
              "      <td>0.151948</td>\n",
              "      <td>-0.046701</td>\n",
              "      <td>-0.024650</td>\n",
              "      <td>-0.023737</td>\n",
              "      <td>-0.144160</td>\n",
              "      <td>-0.045967</td>\n",
              "      <td>1.000000</td>\n",
              "    </tr>\n",
              "  </tbody>\n",
              "</table>\n",
              "</div>"
            ],
            "text/plain": [
              "                        MedInc  HouseAge  ...  Longitude  median_housing_price\n",
              "MedInc                1.000000 -0.119034  ...  -0.015176              0.688075\n",
              "HouseAge             -0.119034  1.000000  ...  -0.108197              0.105623\n",
              "AveRooms              0.326895 -0.153277  ...  -0.027540              0.151948\n",
              "AveBedrms            -0.062040 -0.077747  ...   0.013344             -0.046701\n",
              "Population            0.004834 -0.296244  ...   0.099773             -0.024650\n",
              "AveOccup              0.018766  0.013191  ...   0.002476             -0.023737\n",
              "Latitude             -0.079809  0.011173  ...  -0.924664             -0.144160\n",
              "Longitude            -0.015176 -0.108197  ...   1.000000             -0.045967\n",
              "median_housing_price  0.688075  0.105623  ...  -0.045967              1.000000\n",
              "\n",
              "[9 rows x 9 columns]"
            ]
          },
          "metadata": {
            "tags": []
          },
          "execution_count": 13
        }
      ]
    },
    {
      "cell_type": "code",
      "metadata": {
        "id": "w4MAnkZWyB2K",
        "colab_type": "code",
        "outputId": "d06f2f90-879d-47a8-db6c-668203c9029e",
        "colab": {
          "base_uri": "https://localhost:8080/",
          "height": 199
        }
      },
      "source": [
        "corr['median_housing_price'].sort_values(ascending=False)"
      ],
      "execution_count": 0,
      "outputs": [
        {
          "output_type": "execute_result",
          "data": {
            "text/plain": [
              "median_housing_price    1.000000\n",
              "MedInc                  0.688075\n",
              "AveRooms                0.151948\n",
              "HouseAge                0.105623\n",
              "AveOccup               -0.023737\n",
              "Population             -0.024650\n",
              "Longitude              -0.045967\n",
              "AveBedrms              -0.046701\n",
              "Latitude               -0.144160\n",
              "Name: median_housing_price, dtype: float64"
            ]
          },
          "metadata": {
            "tags": []
          },
          "execution_count": 14
        }
      ]
    },
    {
      "cell_type": "code",
      "metadata": {
        "id": "0tcg01zlymYl",
        "colab_type": "code",
        "outputId": "e6ebc4a7-dc18-4d11-e59d-cd8fa0196058",
        "colab": {
          "base_uri": "https://localhost:8080/",
          "height": 235
        }
      },
      "source": [
        "np.ceil(housing_df['MedInc']/1.5).value_counts()"
      ],
      "execution_count": 0,
      "outputs": [
        {
          "output_type": "execute_result",
          "data": {
            "text/plain": [
              "3.0     7236\n",
              "2.0     6581\n",
              "4.0     3639\n",
              "5.0     1423\n",
              "1.0      822\n",
              "6.0      532\n",
              "7.0      189\n",
              "8.0      105\n",
              "9.0       50\n",
              "11.0      49\n",
              "10.0      14\n",
              "Name: MedInc, dtype: int64"
            ]
          },
          "metadata": {
            "tags": []
          },
          "execution_count": 15
        }
      ]
    },
    {
      "cell_type": "code",
      "metadata": {
        "id": "NjqfUMoZzcaC",
        "colab_type": "code",
        "colab": {}
      },
      "source": [
        "housing_df['income_cat'] =np.ceil( housing_df['MedInc']/1.5)"
      ],
      "execution_count": 0,
      "outputs": []
    },
    {
      "cell_type": "code",
      "metadata": {
        "id": "jDSr0t8t0uaa",
        "colab_type": "code",
        "colab": {}
      },
      "source": [
        "housing_df['income_cat'].where(housing_df['income_cat']<5.0, 5.0, inplace=True)"
      ],
      "execution_count": 0,
      "outputs": []
    },
    {
      "cell_type": "code",
      "metadata": {
        "id": "aQBa8bV-07Ay",
        "colab_type": "code",
        "outputId": "ce6968b2-21c1-4c84-84bc-ced794f57525",
        "colab": {
          "base_uri": "https://localhost:8080/",
          "height": 126
        }
      },
      "source": [
        "housing_df['income_cat'].value_counts()"
      ],
      "execution_count": 0,
      "outputs": [
        {
          "output_type": "execute_result",
          "data": {
            "text/plain": [
              "3.0    7236\n",
              "2.0    6581\n",
              "4.0    3639\n",
              "5.0    2362\n",
              "1.0     822\n",
              "Name: income_cat, dtype: int64"
            ]
          },
          "metadata": {
            "tags": []
          },
          "execution_count": 18
        }
      ]
    },
    {
      "cell_type": "code",
      "metadata": {
        "id": "0v4cXVmj1CzS",
        "colab_type": "code",
        "outputId": "49071bcc-c7a6-487c-c2f2-fa0cbfe53039",
        "colab": {
          "base_uri": "https://localhost:8080/",
          "height": 126
        }
      },
      "source": [
        "housing_df['income_cat'].value_counts() / len(housing_df)"
      ],
      "execution_count": 0,
      "outputs": [
        {
          "output_type": "execute_result",
          "data": {
            "text/plain": [
              "3.0    0.350581\n",
              "2.0    0.318847\n",
              "4.0    0.176308\n",
              "5.0    0.114438\n",
              "1.0    0.039826\n",
              "Name: income_cat, dtype: float64"
            ]
          },
          "metadata": {
            "tags": []
          },
          "execution_count": 19
        }
      ]
    },
    {
      "cell_type": "code",
      "metadata": {
        "id": "mW3XTrgA1YHS",
        "colab_type": "code",
        "colab": {}
      },
      "source": [
        "from sklearn.model_selection import StratifiedShuffleSplit"
      ],
      "execution_count": 0,
      "outputs": []
    },
    {
      "cell_type": "code",
      "metadata": {
        "id": "2oLzey-p18gL",
        "colab_type": "code",
        "colab": {}
      },
      "source": [
        "strat_split = StratifiedShuffleSplit(n_splits=1, test_size=0.2, random_state=42)"
      ],
      "execution_count": 0,
      "outputs": []
    },
    {
      "cell_type": "code",
      "metadata": {
        "id": "W1UAYc5Y2Qbb",
        "colab_type": "code",
        "colab": {}
      },
      "source": [
        "for train_full_ix, test_ix in strat_split.split(housing_df, housing_df['income_cat']):\n",
        "  train_split_full = housing_df.iloc[train_full_ix]\n",
        "  test_split = housing_df.iloc[test_ix]\n",
        "  for train_ix, valid_ix in strat_split.split(train_split_full, train_split_full['income_cat']):\n",
        "    train_split=train_split_full.iloc[train_ix]\n",
        "    valid_split=train_split_full.iloc[valid_ix]"
      ],
      "execution_count": 0,
      "outputs": []
    },
    {
      "cell_type": "code",
      "metadata": {
        "id": "QI1Vyh7_2_Nj",
        "colab_type": "code",
        "outputId": "659ecd19-b76c-439c-8f59-8850d275abe4",
        "colab": {
          "base_uri": "https://localhost:8080/",
          "height": 126
        }
      },
      "source": [
        "train_split['income_cat'].value_counts() / len(train_split)"
      ],
      "execution_count": 0,
      "outputs": [
        {
          "output_type": "execute_result",
          "data": {
            "text/plain": [
              "3.0    0.350594\n",
              "2.0    0.318873\n",
              "4.0    0.176319\n",
              "5.0    0.114392\n",
              "1.0    0.039821\n",
              "Name: income_cat, dtype: float64"
            ]
          },
          "metadata": {
            "tags": []
          },
          "execution_count": 23
        }
      ]
    },
    {
      "cell_type": "code",
      "metadata": {
        "id": "VOm_RUKE4PaU",
        "colab_type": "code",
        "colab": {}
      },
      "source": [
        "train_split = train_split.drop('income_cat' , axis=1)"
      ],
      "execution_count": 0,
      "outputs": []
    },
    {
      "cell_type": "code",
      "metadata": {
        "id": "-ArDdZfN4_We",
        "colab_type": "code",
        "colab": {}
      },
      "source": [
        "test_split = test_split.drop('income_cat', axis=1)"
      ],
      "execution_count": 0,
      "outputs": []
    },
    {
      "cell_type": "code",
      "metadata": {
        "id": "zJXaFoDk3hxv",
        "colab_type": "code",
        "colab": {}
      },
      "source": [
        "valid_split=valid_split.drop('income_cat', axis=1)"
      ],
      "execution_count": 0,
      "outputs": []
    },
    {
      "cell_type": "code",
      "metadata": {
        "id": "Rp9l5z9W5Izr",
        "colab_type": "code",
        "colab": {}
      },
      "source": [
        "X_train = train_split.drop('median_housing_price', axis=1)"
      ],
      "execution_count": 0,
      "outputs": []
    },
    {
      "cell_type": "code",
      "metadata": {
        "id": "TV34Mbvb5V9y",
        "colab_type": "code",
        "colab": {}
      },
      "source": [
        "y_train = train_split['median_housing_price']"
      ],
      "execution_count": 0,
      "outputs": []
    },
    {
      "cell_type": "code",
      "metadata": {
        "id": "9e5ok_w35cJK",
        "colab_type": "code",
        "colab": {}
      },
      "source": [
        "X_test = test_split.drop('median_housing_price', axis=1)"
      ],
      "execution_count": 0,
      "outputs": []
    },
    {
      "cell_type": "code",
      "metadata": {
        "id": "pe3oSWr95lkj",
        "colab_type": "code",
        "colab": {}
      },
      "source": [
        "y_test = test_split['median_housing_price']"
      ],
      "execution_count": 0,
      "outputs": []
    },
    {
      "cell_type": "code",
      "metadata": {
        "id": "1yEe-K0N372t",
        "colab_type": "code",
        "colab": {}
      },
      "source": [
        "X_valid = valid_split.drop('median_housing_price', axis=1)"
      ],
      "execution_count": 0,
      "outputs": []
    },
    {
      "cell_type": "code",
      "metadata": {
        "id": "ak1YCDMu37qu",
        "colab_type": "code",
        "colab": {}
      },
      "source": [
        "y_valid = valid_split['median_housing_price']"
      ],
      "execution_count": 0,
      "outputs": []
    },
    {
      "cell_type": "code",
      "metadata": {
        "id": "2nnjrjOa5t8j",
        "colab_type": "code",
        "colab": {}
      },
      "source": [
        "scaler = StandardScaler()"
      ],
      "execution_count": 0,
      "outputs": []
    },
    {
      "cell_type": "code",
      "metadata": {
        "id": "kLJQg-Uk6CQr",
        "colab_type": "code",
        "colab": {}
      },
      "source": [
        "X_train_scaled = scaler.fit_transform(X_train)"
      ],
      "execution_count": 0,
      "outputs": []
    },
    {
      "cell_type": "code",
      "metadata": {
        "id": "b9gieG4J6J1T",
        "colab_type": "code",
        "colab": {}
      },
      "source": [
        "X_test_scaled = scaler.fit_transform(X_test)"
      ],
      "execution_count": 0,
      "outputs": []
    },
    {
      "cell_type": "code",
      "metadata": {
        "id": "wbvodywu4Pxf",
        "colab_type": "code",
        "colab": {}
      },
      "source": [
        "X_valid_scaled=scaler.fit_transform(X_valid)"
      ],
      "execution_count": 0,
      "outputs": []
    },
    {
      "cell_type": "code",
      "metadata": {
        "id": "cRoqjSOf6U9a",
        "colab_type": "code",
        "colab": {}
      },
      "source": [
        "model = keras.Sequential()"
      ],
      "execution_count": 0,
      "outputs": []
    },
    {
      "cell_type": "code",
      "metadata": {
        "id": "h_bI64To5UQF",
        "colab_type": "code",
        "colab": {}
      },
      "source": [
        "model.add(keras.layers.InputLayer(input_shape=X_train_scaled.shape[1:]))"
      ],
      "execution_count": 0,
      "outputs": []
    },
    {
      "cell_type": "code",
      "metadata": {
        "id": "SLKS9yVk5UB2",
        "colab_type": "code",
        "colab": {}
      },
      "source": [
        ""
      ],
      "execution_count": 0,
      "outputs": []
    },
    {
      "cell_type": "code",
      "metadata": {
        "id": "fdWj4N5o6jW7",
        "colab_type": "code",
        "colab": {}
      },
      "source": [
        "# model.add(keras.layers.Dense(100, activation= 'relu'))"
      ],
      "execution_count": 0,
      "outputs": []
    },
    {
      "cell_type": "code",
      "metadata": {
        "id": "8EWaEyWv60jW",
        "colab_type": "code",
        "outputId": "a0c66ee8-5880-441c-8a4f-9263cc529114",
        "colab": {
          "base_uri": "https://localhost:8080/",
          "height": 35
        }
      },
      "source": [
        "type(keras.activations.relu)"
      ],
      "execution_count": 0,
      "outputs": [
        {
          "output_type": "execute_result",
          "data": {
            "text/plain": [
              "function"
            ]
          },
          "metadata": {
            "tags": []
          },
          "execution_count": 40
        }
      ]
    },
    {
      "cell_type": "code",
      "metadata": {
        "id": "yPOhIO9h7ezO",
        "colab_type": "code",
        "outputId": "0e22af1a-908b-4a10-ceb8-1848ea824eb5",
        "colab": {
          "base_uri": "https://localhost:8080/",
          "height": 35
        }
      },
      "source": [
        "keras.activations.relu(5)"
      ],
      "execution_count": 0,
      "outputs": [
        {
          "output_type": "execute_result",
          "data": {
            "text/plain": [
              "<tf.Tensor: shape=(), dtype=int32, numpy=5>"
            ]
          },
          "metadata": {
            "tags": []
          },
          "execution_count": 41
        }
      ]
    },
    {
      "cell_type": "code",
      "metadata": {
        "id": "f39GkpN46r_H",
        "colab_type": "code",
        "colab": {}
      },
      "source": [
        "model.add(keras.layers.Dense(100, activation= keras.activations.relu))"
      ],
      "execution_count": 0,
      "outputs": []
    },
    {
      "cell_type": "code",
      "metadata": {
        "id": "8Vu9NgIQ77oL",
        "colab_type": "code",
        "colab": {}
      },
      "source": [
        "model.add(keras.layers.Dense(1))"
      ],
      "execution_count": 0,
      "outputs": []
    },
    {
      "cell_type": "code",
      "metadata": {
        "id": "YASRTway9aCy",
        "colab_type": "code",
        "colab": {}
      },
      "source": [
        "# model.compile(loss = 'mean_squared_error' , optimizer ='sgd', metrics=['mse'])"
      ],
      "execution_count": 0,
      "outputs": []
    },
    {
      "cell_type": "code",
      "metadata": {
        "id": "yJTNorzA76qm",
        "colab_type": "code",
        "colab": {}
      },
      "source": [
        "model.compile(loss = keras.losses.mean_squared_error , optimizer = keras.optimizers.SGD(learning_rate=0.01), metrics=[keras.metrics.mae])"
      ],
      "execution_count": 0,
      "outputs": []
    },
    {
      "cell_type": "code",
      "metadata": {
        "id": "-7TlPt6C9t2w",
        "colab_type": "code",
        "outputId": "e2546778-9a4f-402c-fd27-a69f78c6a993",
        "colab": {
          "base_uri": "https://localhost:8080/",
          "height": 235
        }
      },
      "source": [
        "model.summary()"
      ],
      "execution_count": 0,
      "outputs": [
        {
          "output_type": "stream",
          "text": [
            "Model: \"sequential\"\n",
            "_________________________________________________________________\n",
            "Layer (type)                 Output Shape              Param #   \n",
            "=================================================================\n",
            "dense (Dense)                (None, 100)               900       \n",
            "_________________________________________________________________\n",
            "dense_1 (Dense)              (None, 1)                 101       \n",
            "=================================================================\n",
            "Total params: 1,001\n",
            "Trainable params: 1,001\n",
            "Non-trainable params: 0\n",
            "_________________________________________________________________\n"
          ],
          "name": "stdout"
        }
      ]
    },
    {
      "cell_type": "code",
      "metadata": {
        "id": "XxfX018q-ul3",
        "colab_type": "code",
        "outputId": "99d99b54-c0aa-419e-ec7c-021e810be7da",
        "colab": {
          "base_uri": "https://localhost:8080/",
          "height": 54
        }
      },
      "source": [
        "model.layers"
      ],
      "execution_count": 0,
      "outputs": [
        {
          "output_type": "execute_result",
          "data": {
            "text/plain": [
              "[<tensorflow.python.keras.layers.core.Dense at 0x7f70ac825438>,\n",
              " <tensorflow.python.keras.layers.core.Dense at 0x7f70ac825080>]"
            ]
          },
          "metadata": {
            "tags": []
          },
          "execution_count": 47
        }
      ]
    },
    {
      "cell_type": "code",
      "metadata": {
        "id": "GMQqHKgb-0eo",
        "colab_type": "code",
        "colab": {}
      },
      "source": [
        "hidden1=model.layers[0]"
      ],
      "execution_count": 0,
      "outputs": []
    },
    {
      "cell_type": "code",
      "metadata": {
        "id": "D6eSj5m2-6L2",
        "colab_type": "code",
        "outputId": "5a59ff42-6e5f-40f6-aa0a-5aa4e14f9f8f",
        "colab": {
          "base_uri": "https://localhost:8080/",
          "height": 35
        }
      },
      "source": [
        "hidden1.name"
      ],
      "execution_count": 0,
      "outputs": [
        {
          "output_type": "execute_result",
          "data": {
            "text/plain": [
              "'dense'"
            ]
          },
          "metadata": {
            "tags": []
          },
          "execution_count": 49
        }
      ]
    },
    {
      "cell_type": "code",
      "metadata": {
        "id": "9TsrJowC-_n2",
        "colab_type": "code",
        "colab": {}
      },
      "source": [
        "weights,biases= hidden1.get_weights()"
      ],
      "execution_count": 0,
      "outputs": []
    },
    {
      "cell_type": "code",
      "metadata": {
        "id": "olWg8xpG_IhF",
        "colab_type": "code",
        "outputId": "6433f0ff-b675-4880-b070-f87db726e26a",
        "colab": {
          "base_uri": "https://localhost:8080/",
          "height": 35
        }
      },
      "source": [
        "weights.shape"
      ],
      "execution_count": 0,
      "outputs": [
        {
          "output_type": "execute_result",
          "data": {
            "text/plain": [
              "(8, 100)"
            ]
          },
          "metadata": {
            "tags": []
          },
          "execution_count": 51
        }
      ]
    },
    {
      "cell_type": "code",
      "metadata": {
        "id": "eQ-jbvzU_IcG",
        "colab_type": "code",
        "outputId": "9cb9a170-3b45-4824-cac3-9d10479ef376",
        "colab": {
          "base_uri": "https://localhost:8080/",
          "height": 35
        }
      },
      "source": [
        "biases.shape"
      ],
      "execution_count": 0,
      "outputs": [
        {
          "output_type": "execute_result",
          "data": {
            "text/plain": [
              "(100,)"
            ]
          },
          "metadata": {
            "tags": []
          },
          "execution_count": 52
        }
      ]
    },
    {
      "cell_type": "code",
      "metadata": {
        "id": "lELeWKSA_IVG",
        "colab_type": "code",
        "outputId": "9b63912f-abc3-4a94-87c4-2d2baca545d1",
        "colab": {
          "base_uri": "https://localhost:8080/",
          "height": 35
        }
      },
      "source": [
        "hidden1.activation"
      ],
      "execution_count": 0,
      "outputs": [
        {
          "output_type": "execute_result",
          "data": {
            "text/plain": [
              "<function tensorflow.python.keras.activations.relu>"
            ]
          },
          "metadata": {
            "tags": []
          },
          "execution_count": 53
        }
      ]
    },
    {
      "cell_type": "code",
      "metadata": {
        "id": "ejidJ1ep_xE-",
        "colab_type": "code",
        "colab": {}
      },
      "source": [
        "hidden1.activity_regularizer"
      ],
      "execution_count": 0,
      "outputs": []
    },
    {
      "cell_type": "code",
      "metadata": {
        "id": "-0HDeZzA_w72",
        "colab_type": "code",
        "outputId": "d46f1abe-5608-417e-b239-55e952a7b85f",
        "colab": {
          "base_uri": "https://localhost:8080/",
          "height": 35
        }
      },
      "source": [
        "hidden1.kernel_initializer"
      ],
      "execution_count": 0,
      "outputs": [
        {
          "output_type": "execute_result",
          "data": {
            "text/plain": [
              "<tensorflow.python.ops.init_ops_v2.GlorotUniform at 0x7f70ac825978>"
            ]
          },
          "metadata": {
            "tags": []
          },
          "execution_count": 55
        }
      ]
    },
    {
      "cell_type": "code",
      "metadata": {
        "id": "KQRjueyh_w0G",
        "colab_type": "code",
        "outputId": "03a54ffb-09c7-4cd3-d0c1-ac38458928b6",
        "colab": {
          "base_uri": "https://localhost:8080/",
          "height": 35
        }
      },
      "source": [
        "hidden1.bias_initializer"
      ],
      "execution_count": 0,
      "outputs": [
        {
          "output_type": "execute_result",
          "data": {
            "text/plain": [
              "<tensorflow.python.ops.init_ops_v2.Zeros at 0x7f70ac825a20>"
            ]
          },
          "metadata": {
            "tags": []
          },
          "execution_count": 56
        }
      ]
    },
    {
      "cell_type": "code",
      "metadata": {
        "id": "vlNauxBO97YT",
        "colab_type": "code",
        "outputId": "f7f85ed0-f4f3-436a-efa6-c9c49744a4ef",
        "colab": {
          "base_uri": "https://localhost:8080/",
          "height": 1000
        }
      },
      "source": [
        "history=model.fit(X_train_scaled, y_train, validation_data=[X_valid_scaled, y_valid.values], epochs=30)"
      ],
      "execution_count": 0,
      "outputs": [
        {
          "output_type": "stream",
          "text": [
            "Train on 13209 samples, validate on 3303 samples\n",
            "Epoch 1/30\n",
            "13209/13209 [==============================] - 1s 101us/sample - loss: 0.7903 - mean_absolute_error: 0.6209 - val_loss: 4.1648 - val_mean_absolute_error: 0.5878\n",
            "Epoch 2/30\n",
            "13209/13209 [==============================] - 1s 57us/sample - loss: 1.2905 - mean_absolute_error: 0.5478 - val_loss: 0.4897 - val_mean_absolute_error: 0.5112\n",
            "Epoch 3/30\n",
            "13209/13209 [==============================] - 1s 57us/sample - loss: 0.5397 - mean_absolute_error: 0.4894 - val_loss: 0.4666 - val_mean_absolute_error: 0.4777\n",
            "Epoch 4/30\n",
            "13209/13209 [==============================] - 1s 54us/sample - loss: 0.4244 - mean_absolute_error: 0.4660 - val_loss: 0.4355 - val_mean_absolute_error: 0.4631\n",
            "Epoch 5/30\n",
            "13209/13209 [==============================] - 1s 58us/sample - loss: 0.4108 - mean_absolute_error: 0.4566 - val_loss: 0.4313 - val_mean_absolute_error: 0.4519\n",
            "Epoch 6/30\n",
            "13209/13209 [==============================] - 1s 57us/sample - loss: 0.4024 - mean_absolute_error: 0.4496 - val_loss: 0.4227 - val_mean_absolute_error: 0.4588\n",
            "Epoch 7/30\n",
            "13209/13209 [==============================] - 1s 55us/sample - loss: 0.3988 - mean_absolute_error: 0.4453 - val_loss: 0.4257 - val_mean_absolute_error: 0.4558\n",
            "Epoch 8/30\n",
            "13209/13209 [==============================] - 1s 55us/sample - loss: 0.3980 - mean_absolute_error: 0.4442 - val_loss: 0.4054 - val_mean_absolute_error: 0.4464\n",
            "Epoch 9/30\n",
            "13209/13209 [==============================] - 1s 59us/sample - loss: 0.3848 - mean_absolute_error: 0.4385 - val_loss: 0.4107 - val_mean_absolute_error: 0.4463\n",
            "Epoch 10/30\n",
            "13209/13209 [==============================] - 1s 58us/sample - loss: 0.3756 - mean_absolute_error: 0.4330 - val_loss: 0.3958 - val_mean_absolute_error: 0.4408\n",
            "Epoch 11/30\n",
            "13209/13209 [==============================] - 1s 54us/sample - loss: 0.3803 - mean_absolute_error: 0.4316 - val_loss: 0.4505 - val_mean_absolute_error: 0.4482\n",
            "Epoch 12/30\n",
            "13209/13209 [==============================] - 1s 56us/sample - loss: 0.3708 - mean_absolute_error: 0.4300 - val_loss: 0.4053 - val_mean_absolute_error: 0.4480\n",
            "Epoch 13/30\n",
            "13209/13209 [==============================] - 1s 55us/sample - loss: 0.3661 - mean_absolute_error: 0.4269 - val_loss: 0.3936 - val_mean_absolute_error: 0.4348\n",
            "Epoch 14/30\n",
            "13209/13209 [==============================] - 1s 55us/sample - loss: 0.3612 - mean_absolute_error: 0.4233 - val_loss: 0.3883 - val_mean_absolute_error: 0.4348\n",
            "Epoch 15/30\n",
            "13209/13209 [==============================] - 1s 54us/sample - loss: 0.3665 - mean_absolute_error: 0.4240 - val_loss: 0.3942 - val_mean_absolute_error: 0.4379\n",
            "Epoch 16/30\n",
            "13209/13209 [==============================] - 1s 56us/sample - loss: 0.3537 - mean_absolute_error: 0.4196 - val_loss: 0.3806 - val_mean_absolute_error: 0.4280\n",
            "Epoch 17/30\n",
            "13209/13209 [==============================] - 1s 56us/sample - loss: 0.3496 - mean_absolute_error: 0.4162 - val_loss: 0.3867 - val_mean_absolute_error: 0.4321\n",
            "Epoch 18/30\n",
            "13209/13209 [==============================] - 1s 59us/sample - loss: 0.3499 - mean_absolute_error: 0.4163 - val_loss: 0.3777 - val_mean_absolute_error: 0.4249\n",
            "Epoch 19/30\n",
            "13209/13209 [==============================] - 1s 56us/sample - loss: 0.3486 - mean_absolute_error: 0.4147 - val_loss: 0.3826 - val_mean_absolute_error: 0.4343\n",
            "Epoch 20/30\n",
            "13209/13209 [==============================] - 1s 55us/sample - loss: 0.3444 - mean_absolute_error: 0.4124 - val_loss: 0.3752 - val_mean_absolute_error: 0.4215\n",
            "Epoch 21/30\n",
            "13209/13209 [==============================] - 1s 56us/sample - loss: 0.3398 - mean_absolute_error: 0.4093 - val_loss: 0.3695 - val_mean_absolute_error: 0.4190\n",
            "Epoch 22/30\n",
            "13209/13209 [==============================] - 1s 53us/sample - loss: 0.3383 - mean_absolute_error: 0.4073 - val_loss: 0.3726 - val_mean_absolute_error: 0.4208\n",
            "Epoch 23/30\n",
            "13209/13209 [==============================] - 1s 56us/sample - loss: 0.3546 - mean_absolute_error: 0.4096 - val_loss: 0.3796 - val_mean_absolute_error: 0.4221\n",
            "Epoch 24/30\n",
            "13209/13209 [==============================] - 1s 53us/sample - loss: 0.3331 - mean_absolute_error: 0.4049 - val_loss: 0.3873 - val_mean_absolute_error: 0.4266\n",
            "Epoch 25/30\n",
            "13209/13209 [==============================] - 1s 54us/sample - loss: 0.3328 - mean_absolute_error: 0.4045 - val_loss: 0.3678 - val_mean_absolute_error: 0.4120\n",
            "Epoch 26/30\n",
            "13209/13209 [==============================] - 1s 57us/sample - loss: 0.3388 - mean_absolute_error: 0.4031 - val_loss: 0.3699 - val_mean_absolute_error: 0.4146\n",
            "Epoch 27/30\n",
            "13209/13209 [==============================] - 1s 55us/sample - loss: 0.3282 - mean_absolute_error: 0.4010 - val_loss: 0.3591 - val_mean_absolute_error: 0.4126\n",
            "Epoch 28/30\n",
            "13209/13209 [==============================] - 1s 53us/sample - loss: 0.3254 - mean_absolute_error: 0.3994 - val_loss: 0.3681 - val_mean_absolute_error: 0.4175\n",
            "Epoch 29/30\n",
            "13209/13209 [==============================] - 1s 59us/sample - loss: 0.3341 - mean_absolute_error: 0.4011 - val_loss: 0.3611 - val_mean_absolute_error: 0.4142\n",
            "Epoch 30/30\n",
            "13209/13209 [==============================] - 1s 56us/sample - loss: 0.3233 - mean_absolute_error: 0.3975 - val_loss: 0.3608 - val_mean_absolute_error: 0.4208\n"
          ],
          "name": "stdout"
        }
      ]
    },
    {
      "cell_type": "code",
      "metadata": {
        "id": "FdKmHlJj-Yb7",
        "colab_type": "code",
        "outputId": "d83d4948-7f36-4da8-d200-d868cf698aa8",
        "colab": {
          "base_uri": "https://localhost:8080/",
          "height": 35
        }
      },
      "source": [
        "type(y_train.values)"
      ],
      "execution_count": 0,
      "outputs": [
        {
          "output_type": "execute_result",
          "data": {
            "text/plain": [
              "numpy.ndarray"
            ]
          },
          "metadata": {
            "tags": []
          },
          "execution_count": 58
        }
      ]
    },
    {
      "cell_type": "code",
      "metadata": {
        "id": "PkIJBCDXC_m4",
        "colab_type": "code",
        "outputId": "6f8ec20d-81bb-4701-ba52-df22a5afc828",
        "colab": {
          "base_uri": "https://localhost:8080/",
          "height": 35
        }
      },
      "source": [
        "type(y_test)"
      ],
      "execution_count": 0,
      "outputs": [
        {
          "output_type": "execute_result",
          "data": {
            "text/plain": [
              "pandas.core.series.Series"
            ]
          },
          "metadata": {
            "tags": []
          },
          "execution_count": 59
        }
      ]
    },
    {
      "cell_type": "code",
      "metadata": {
        "id": "w2BANpPnDB1-",
        "colab_type": "code",
        "outputId": "cd2f881a-9f7e-4739-deb3-921933a1fefa",
        "colab": {
          "base_uri": "https://localhost:8080/",
          "height": 1000
        }
      },
      "source": [
        "history.history"
      ],
      "execution_count": 0,
      "outputs": [
        {
          "output_type": "execute_result",
          "data": {
            "text/plain": [
              "{'loss': [0.790282233530842,\n",
              "  1.2904607679631999,\n",
              "  0.5397197933496286,\n",
              "  0.42444869538604,\n",
              "  0.41081145058086865,\n",
              "  0.4024134602605534,\n",
              "  0.39884341057302264,\n",
              "  0.39803977821125774,\n",
              "  0.38482114449295707,\n",
              "  0.3756449161421315,\n",
              "  0.3803275930469967,\n",
              "  0.3708440906387444,\n",
              "  0.3660627272273637,\n",
              "  0.3611614214364563,\n",
              "  0.366523825226116,\n",
              "  0.353695245853244,\n",
              "  0.34963440276878105,\n",
              "  0.3499398309503644,\n",
              "  0.348602472970953,\n",
              "  0.34436989625204756,\n",
              "  0.3397724694420165,\n",
              "  0.33834989501242474,\n",
              "  0.3546418286326959,\n",
              "  0.3331340629057769,\n",
              "  0.3328377406750018,\n",
              "  0.3387999195746248,\n",
              "  0.3281661101073101,\n",
              "  0.32538134601251734,\n",
              "  0.33413653188054465,\n",
              "  0.3232957067695571],\n",
              " 'mean_absolute_error': [0.62089866,\n",
              "  0.54783607,\n",
              "  0.48941866,\n",
              "  0.46596253,\n",
              "  0.4565896,\n",
              "  0.44958627,\n",
              "  0.4452724,\n",
              "  0.44416034,\n",
              "  0.43847227,\n",
              "  0.4329548,\n",
              "  0.43155414,\n",
              "  0.43004352,\n",
              "  0.42685607,\n",
              "  0.4232823,\n",
              "  0.42400178,\n",
              "  0.4196287,\n",
              "  0.41620728,\n",
              "  0.41626722,\n",
              "  0.41469768,\n",
              "  0.41239157,\n",
              "  0.40933976,\n",
              "  0.40728608,\n",
              "  0.40960723,\n",
              "  0.4049042,\n",
              "  0.4044514,\n",
              "  0.40313667,\n",
              "  0.40099147,\n",
              "  0.39936653,\n",
              "  0.40111616,\n",
              "  0.3974899],\n",
              " 'val_loss': [4.164774047003852,\n",
              "  0.4896592937236189,\n",
              "  0.4666199993083883,\n",
              "  0.435548712512128,\n",
              "  0.4312862097549323,\n",
              "  0.4226569888305202,\n",
              "  0.4257075321735702,\n",
              "  0.40539008546806704,\n",
              "  0.4107286757929124,\n",
              "  0.3958131858084803,\n",
              "  0.45049780024350355,\n",
              "  0.4052903610325351,\n",
              "  0.39361146768222893,\n",
              "  0.3882942654817277,\n",
              "  0.39422018016211163,\n",
              "  0.3805913355651495,\n",
              "  0.38669858901312304,\n",
              "  0.3777174836319575,\n",
              "  0.3825638201104631,\n",
              "  0.3752119934562477,\n",
              "  0.3695486506439865,\n",
              "  0.37263786020403084,\n",
              "  0.37958472416756767,\n",
              "  0.3873408454279448,\n",
              "  0.3677901240359499,\n",
              "  0.3698536598642703,\n",
              "  0.359138241508604,\n",
              "  0.36813445821011964,\n",
              "  0.361139889814404,\n",
              "  0.3608093984986738],\n",
              " 'val_mean_absolute_error': [0.5878019,\n",
              "  0.51122946,\n",
              "  0.47765747,\n",
              "  0.46309796,\n",
              "  0.4518888,\n",
              "  0.4588195,\n",
              "  0.4558486,\n",
              "  0.4464355,\n",
              "  0.44627765,\n",
              "  0.44078717,\n",
              "  0.4481769,\n",
              "  0.44800898,\n",
              "  0.4347747,\n",
              "  0.43484688,\n",
              "  0.43786788,\n",
              "  0.42795953,\n",
              "  0.43211526,\n",
              "  0.4248553,\n",
              "  0.43427747,\n",
              "  0.4215082,\n",
              "  0.41895652,\n",
              "  0.42076743,\n",
              "  0.42212164,\n",
              "  0.4265802,\n",
              "  0.41203442,\n",
              "  0.41462174,\n",
              "  0.4126181,\n",
              "  0.4174661,\n",
              "  0.41422674,\n",
              "  0.4207851]}"
            ]
          },
          "metadata": {
            "tags": []
          },
          "execution_count": 60
        }
      ]
    },
    {
      "cell_type": "code",
      "metadata": {
        "id": "FWUDU2e5DEiG",
        "colab_type": "code",
        "colab": {}
      },
      "source": [
        "history_df=pd.DataFrame(history.history)"
      ],
      "execution_count": 0,
      "outputs": []
    },
    {
      "cell_type": "code",
      "metadata": {
        "id": "6vQtFi_IDck2",
        "colab_type": "code",
        "outputId": "938f73cb-0371-4bdd-b469-32b1983cfd2d",
        "colab": {
          "base_uri": "https://localhost:8080/",
          "height": 324
        }
      },
      "source": [
        "history_df.plot(figsize = (8,5))\n",
        "plt.grid(True)\n",
        "plt.gca().set_ylim(0,1)\n",
        "plt.show()"
      ],
      "execution_count": 0,
      "outputs": [
        {
          "output_type": "display_data",
          "data": {
            "image/png": "[encoded data removed]",
            "text/plain": [
              "<Figure size 576x360 with 1 Axes>"
            ]
          },
          "metadata": {
            "tags": []
          }
        }
      ]
    },
    {
      "cell_type": "code",
      "metadata": {
        "id": "145TVlPaEMy3",
        "colab_type": "code",
        "outputId": "6f9e926c-0410-4971-8203-369256917a02",
        "colab": {
          "base_uri": "https://localhost:8080/",
          "height": 54
        }
      },
      "source": [
        "model.evaluate(X_test_scaled, y_test.values, verbose=2)"
      ],
      "execution_count": 0,
      "outputs": [
        {
          "output_type": "stream",
          "text": [
            "4128/4128 - 0s - loss: 2.1048 - mean_absolute_error: 1.0484\n"
          ],
          "name": "stdout"
        },
        {
          "output_type": "execute_result",
          "data": {
            "text/plain": [
              "[2.104796589344971, 1.048411]"
            ]
          },
          "metadata": {
            "tags": []
          },
          "execution_count": 63
        }
      ]
    },
    {
      "cell_type": "code",
      "metadata": {
        "id": "82iJj7vQILjy",
        "colab_type": "code",
        "outputId": "f1889539-1ba5-4432-f583-bc348c9a394a",
        "colab": {
          "base_uri": "https://localhost:8080/",
          "height": 199
        }
      },
      "source": [
        "model.predict(X_test_scaled[:10])"
      ],
      "execution_count": 0,
      "outputs": [
        {
          "output_type": "execute_result",
          "data": {
            "text/plain": [
              "array([[6.3557463],\n",
              "       [3.7400317],\n",
              "       [4.0368075],\n",
              "       [1.5218441],\n",
              "       [1.029124 ],\n",
              "       [2.1748166],\n",
              "       [1.138199 ],\n",
              "       [4.798982 ],\n",
              "       [1.2560058],\n",
              "       [1.6846797]], dtype=float32)"
            ]
          },
          "metadata": {
            "tags": []
          },
          "execution_count": 64
        }
      ]
    },
    {
      "cell_type": "code",
      "metadata": {
        "id": "fzexyZbSIdxe",
        "colab_type": "code",
        "outputId": "5c613678-6bbe-430e-aa55-2fc0329182e3",
        "colab": {
          "base_uri": "https://localhost:8080/",
          "height": 217
        }
      },
      "source": [
        "y_test[:10]"
      ],
      "execution_count": 0,
      "outputs": [
        {
          "output_type": "execute_result",
          "data": {
            "text/plain": [
              "5241     5.00001\n",
              "10970    2.40300\n",
              "20351    2.18200\n",
              "6568     1.82100\n",
              "13285    1.21300\n",
              "20552    1.20600\n",
              "19989    0.72300\n",
              "17049    5.00001\n",
              "13692    0.98900\n",
              "13916    0.82600\n",
              "Name: median_housing_price, dtype: float64"
            ]
          },
          "metadata": {
            "tags": []
          },
          "execution_count": 65
        }
      ]
    },
    {
      "cell_type": "code",
      "metadata": {
        "id": "ZiRNlsKKIube",
        "colab_type": "code",
        "outputId": "18ae5a0d-f7d2-42e0-af84-ba68b5af653a",
        "colab": {
          "base_uri": "https://localhost:8080/",
          "height": 217
        }
      },
      "source": [
        "y_train[:10]"
      ],
      "execution_count": 0,
      "outputs": [
        {
          "output_type": "execute_result",
          "data": {
            "text/plain": [
              "8739     3.62600\n",
              "2383     1.07600\n",
              "9267     0.61700\n",
              "15416    0.98600\n",
              "18542    2.34400\n",
              "15615    5.00001\n",
              "7379     1.15100\n",
              "20100    0.68200\n",
              "9002     1.83000\n",
              "9700     1.35200\n",
              "Name: median_housing_price, dtype: float64"
            ]
          },
          "metadata": {
            "tags": []
          },
          "execution_count": 66
        }
      ]
    }
  ]
}